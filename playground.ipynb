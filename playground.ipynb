{
 "cells": [
  {
   "cell_type": "code",
   "execution_count": 1,
   "metadata": {},
   "outputs": [],
   "source": [
    "import gc\n",
    "import os\n",
    "import numpy as np\n",
    "import pandas as pd\n",
    "import sklearn\n",
    "import matplotlib.pyplot as plt\n",
    "import seaborn as sns\n",
    "import plotly.express as px\n",
    "import pickle\n",
    "from sklearn.utils import resample\n",
    "from collections import Counter\n",
    "import math\n",
    "from sklearn.model_selection import train_test_split\n",
    "import helper\n",
    "import dataset\n",
    "import torch\n",
    "import torch.nn as nn\n",
    "from resnet1d.net1d import Net1D"
   ]
  },
  {
   "cell_type": "code",
   "execution_count": 2,
   "metadata": {},
   "outputs": [
    {
     "data": {
      "text/plain": [
       "(2830743, 79)"
      ]
     },
     "execution_count": 2,
     "metadata": {},
     "output_type": "execute_result"
    }
   ],
   "source": [
    "data_files = [name for name in os.listdir('./data')]\n",
    "\n",
    "dfs = []\n",
    "\n",
    "for i in range(len(data_files)):\n",
    "    fname = './data/' + data_files[i]\n",
    "    df = pd.read_csv(fname)\n",
    "    # df.columns = [x.strip().lstrip() for x in df.columns]\n",
    "\n",
    "    dfs.append(df)\n",
    "\n",
    "df = pd.concat(dfs, axis=0, ignore_index=True)\n",
    "\n",
    "df.shape"
   ]
  },
  {
   "cell_type": "code",
   "execution_count": 3,
   "metadata": {},
   "outputs": [
    {
     "data": {
      "text/plain": [
       "(2830743, 79)"
      ]
     },
     "execution_count": 3,
     "metadata": {},
     "output_type": "execute_result"
    }
   ],
   "source": [
    "# Remove spaces in the front and the end of the column names for better human reading\n",
    "df.columns = [x.lstrip().strip().replace('�', '-') for x in df.columns]\n",
    "df.shape"
   ]
  },
  {
   "cell_type": "code",
   "execution_count": 4,
   "metadata": {},
   "outputs": [
    {
     "data": {
      "text/plain": [
       "(2827876, 79)"
      ]
     },
     "execution_count": 4,
     "metadata": {},
     "output_type": "execute_result"
    }
   ],
   "source": [
    "# replace inf values to nan\n",
    "df.replace([np.inf, -np.inf], np.nan, inplace=True)\n",
    "df.dropna(inplace=True)\n",
    "df.shape"
   ]
  },
  {
   "cell_type": "code",
   "execution_count": 5,
   "metadata": {},
   "outputs": [],
   "source": [
    "# remove this when experimenting on the whole dataset\n",
    "df = resample(df, replace=False, n_samples=20000, stratify=df['Label'])"
   ]
  },
  {
   "cell_type": "code",
   "execution_count": 6,
   "metadata": {},
   "outputs": [],
   "source": [
    "from sklearn.impute import SimpleImputer\n",
    "from sklearn.pipeline import Pipeline\n",
    "from sklearn.decomposition import PCA\n",
    "from sklearn.preprocessing import MinMaxScaler\n",
    "from sklearn.preprocessing import LabelEncoder\n",
    "\n",
    "pca__n_components = 20\n",
    "\n",
    "preprocessor = Pipeline(steps=[\n",
    "    (\"imputer\", SimpleImputer(strategy='most_frequent')),\n",
    "    (\"normalize\", MinMaxScaler()),\n",
    "    (\"PCA\", PCA(n_components=pca__n_components))\n",
    "])\n",
    "\n",
    "label_encoder = LabelEncoder()"
   ]
  },
  {
   "cell_type": "code",
   "execution_count": 7,
   "metadata": {},
   "outputs": [],
   "source": [
    "X = df.drop(['Label'], axis=1)\n",
    "y = df['Label']\n",
    "\n",
    "X_train, X_val, y_train, y_val = train_test_split(X, y, test_size=0.2, stratify=y)\n",
    "\n",
    "X_train = preprocessor.fit_transform(X_train)\n",
    "X_val = preprocessor.transform(X_val)\n",
    "\n",
    "# doing this since we need all labels in case there's any labels not found in test set\n",
    "label_encoder.fit(y)\n",
    "\n",
    "y_train = label_encoder.transform(y_train)\n",
    "y_val = label_encoder.transform(y_val)"
   ]
  },
  {
   "cell_type": "code",
   "execution_count": 8,
   "metadata": {},
   "outputs": [
    {
     "data": {
      "text/plain": [
       "(16000, 3, 20)"
      ]
     },
     "execution_count": 8,
     "metadata": {},
     "output_type": "execute_result"
    }
   ],
   "source": [
    "X_smote, _ = helper.smote_sampling(X_train, y_train)\n",
    "X_gaussion = helper.add_gaussion(X_smote)\n",
    "X_flip = helper.invert_array(X_train)\n",
    "\n",
    "X_new = np.dstack([X_smote, X_gaussion, X_flip])\n",
    "X_new = X_new.transpose((0, 2, 1))\n",
    "\n",
    "X_new.shape"
   ]
  },
  {
   "cell_type": "code",
   "execution_count": 9,
   "metadata": {},
   "outputs": [
    {
     "data": {
      "text/plain": [
       "(16000, 1, 20)"
      ]
     },
     "execution_count": 9,
     "metadata": {},
     "output_type": "execute_result"
    }
   ],
   "source": [
    "# batch, channel, feature\n",
    "X_train = np.expand_dims(X_train, axis=2).transpose((0, 2, 1))\n",
    "X_train.shape"
   ]
  },
  {
   "cell_type": "code",
   "execution_count": 10,
   "metadata": {},
   "outputs": [],
   "source": [
    "org_dataset = dataset.NumpyDataset(X_train, y_train)\n",
    "pos_dataset = dataset.NumpyDataset(X_new, y_train)"
   ]
  },
  {
   "cell_type": "code",
   "execution_count": 11,
   "metadata": {},
   "outputs": [],
   "source": [
    "import time\n",
    "import warnings\n",
    "import optuna\n",
    "from torch.utils.data import DataLoader\n",
    "from pytorch_metric_learning.losses import SelfSupervisedLoss, NTXentLoss\n",
    "from sklearn.neural_network import MLPClassifier\n",
    "from sklearn.model_selection import cross_validate, StratifiedKFold\n",
    "from models import Extractor, Projector, ExtractorMLP\n",
    "from models import ExtractorMLP\n",
    "from itertools import cycle\n",
    "from torch.utils.tensorboard import SummaryWriter\n",
    "\n",
    "\n",
    "device = torch.device('cuda:0' if torch.cuda.is_available() else 'cpu')\n",
    "warnings.filterwarnings('ignore')\n",
    "verbose = False\n",
    "\n",
    "def objective(trial: optuna.Trial):\n",
    "    start_time = time.perf_counter()\n",
    "\n",
    "    hidden_size = trial.suggest_int('hidden_size', 16, 64) \n",
    "    embedding_size = trial.suggest_int('embedding_size', 16, 64)\n",
    "    n_hidden = trial.suggest_int('n_hidden', 2, 5)\n",
    "    kernel_size = trial.suggest_int('kernel_size', 3, 15)\n",
    "    stride = trial.suggest_int('stride', 1, 3)\n",
    "    act = trial.suggest_categorical('act', ['relu', 'swish'])\n",
    "\n",
    "    params = {\n",
    "        'hidden_size': hidden_size,\n",
    "        'embedding_size': embedding_size,\n",
    "        'n_hidden': n_hidden,\n",
    "        'kernel_size': kernel_size,\n",
    "        'stride': stride,\n",
    "    }\n",
    "\n",
    "    print(params)\n",
    "\n",
    "    extractor_1d = ExtractorMLP(n_features=pca__n_components, \n",
    "                            n_channels=1,\n",
    "                            embedding_size=embedding_size,\n",
    "                            hidden_size=hidden_size,\n",
    "                            n_hidden=n_hidden,\n",
    "                            kernel_size=kernel_size, \n",
    "                            stride=stride,\n",
    "                            act=act\n",
    "                            ).to(device)\n",
    "\n",
    "    extractor_3d = ExtractorMLP(n_features=pca__n_components, \n",
    "                            n_channels=X_new.shape[1],\n",
    "                            embedding_size=embedding_size,\n",
    "                            hidden_size=hidden_size,\n",
    "                            n_hidden=n_hidden,\n",
    "                            kernel_size=kernel_size, \n",
    "                            stride=stride,\n",
    "                            act=act,\n",
    "                            ).to(device)\n",
    "\n",
    "    projector = Projector(embedding_size=embedding_size).to(device)\n",
    "\n",
    "    lr = 1e-3\n",
    "    weight_decay = 1e-4\n",
    "    batch_size = 1024\n",
    "    epochs = 200\n",
    "\n",
    "    org_dataloader = DataLoader(org_dataset, batch_size=batch_size,)\n",
    "    pos_dataloader = DataLoader(pos_dataset, batch_size=batch_size)\n",
    "\n",
    "    optimizer_1d = torch.optim.Adam(extractor_1d.parameters(), lr=lr, weight_decay=weight_decay)\n",
    "    optimizer_3d = torch.optim.Adam(extractor_3d.parameters(), lr=lr, weight_decay=weight_decay)\n",
    "    optimizer_projector = torch.optim.Adam(projector.parameters(), lr=lr, weight_decay=weight_decay)\n",
    "\n",
    "    loss_fn = NTXentLoss()\n",
    "    loss_fn = SelfSupervisedLoss(loss_fn, symmetric=False).to(device)\n",
    "\n",
    "    writer = SummaryWriter(log_dir='./runs')\n",
    "\n",
    "    cnt = 1\n",
    "\n",
    "    for epoch in range(epochs):\n",
    "        total_loss = 0\n",
    "        for item1, item2 in zip(org_dataloader, cycle(pos_dataloader)):\n",
    "            X_batch, _ = item1\n",
    "            X_new_batch, _ = item2\n",
    "\n",
    "            X_batch = X_batch.to(device)\n",
    "            X_new_batch = X_new_batch.to(device)\n",
    "\n",
    "            optimizer_1d.zero_grad()\n",
    "            optimizer_3d.zero_grad()\n",
    "            optimizer_projector.zero_grad()\n",
    "\n",
    "            embedding_1d = extractor_1d(X_batch)\n",
    "            embedding_3d = extractor_3d(X_new_batch)\n",
    "            projected_1d = projector(embedding_1d)\n",
    "            projected_3d = projector(embedding_3d)\n",
    "\n",
    "            loss = loss_fn(projected_1d, projected_3d)\n",
    "            loss.backward()\n",
    "\n",
    "            total_loss += loss.item()\n",
    "        \n",
    "            optimizer_1d.step()\n",
    "            optimizer_3d.step()\n",
    "            optimizer_projector.step()\n",
    "\n",
    "        cnt += 1\n",
    "\n",
    "        if verbose: print(f'[{epoch}/{epochs}]: {total_loss}')\n",
    "        \n",
    "        writer.add_scalar(f'Loss/train-{(hidden_size, n_hidden, embedding_size, kernel_size, stride)}', total_loss, cnt)\n",
    "                        \n",
    "    extractor_1d.eval()\n",
    "    X_val_tensor = torch.tensor(np.expand_dims(X_val, axis=2).transpose((0, 2, 1)), dtype=torch.float32, device=device)\n",
    "\n",
    "    X_val_embedding = extractor_1d(X_val_tensor)\n",
    "    X_val_embedding = X_val_embedding.cpu().detach().numpy()\n",
    "\n",
    "    mlp = MLPClassifier(max_iter=750, verbose=0)\n",
    "    results = cross_validate(mlp, X_val_embedding, y_val, cv=5, scoring='f1_macro')\n",
    "\n",
    "    end_time = time.perf_counter()\n",
    "    elapsed_time = end_time - start_time\n",
    "    print(f'elapsed {elapsed_time//60}:{elapsed_time % 60}')\n",
    "\n",
    "    return np.average(results['test_score'])\n",
    "            "
   ]
  },
  {
   "cell_type": "code",
   "execution_count": 12,
   "metadata": {},
   "outputs": [
    {
     "name": "stderr",
     "output_type": "stream",
     "text": [
      "[I 2023-11-14 14:39:30,397] A new study created in memory with name: no-name-efa506b8-9217-4b9a-b132-df2e9dd92d45\n"
     ]
    },
    {
     "name": "stdout",
     "output_type": "stream",
     "text": [
      "{'hidden_size': 19, 'embedding_size': 27, 'n_hidden': 2, 'kernel_size': 4, 'stride': 1}\n"
     ]
    },
    {
     "name": "stderr",
     "output_type": "stream",
     "text": [
      "[I 2023-11-14 14:48:16,689] Trial 0 finished with value: 0.49807622462377477 and parameters: {'hidden_size': 19, 'embedding_size': 27, 'n_hidden': 2, 'kernel_size': 4, 'stride': 1, 'act': 'relu'}. Best is trial 0 with value: 0.49807622462377477.\n"
     ]
    },
    {
     "name": "stdout",
     "output_type": "stream",
     "text": [
      "elapsed 8.0:46.28999856700102\n",
      "{'hidden_size': 58, 'embedding_size': 47, 'n_hidden': 5, 'kernel_size': 8, 'stride': 2}\n"
     ]
    },
    {
     "name": "stderr",
     "output_type": "stream",
     "text": [
      "[I 2023-11-14 14:56:27,699] Trial 1 finished with value: 0.08783164666659811 and parameters: {'hidden_size': 58, 'embedding_size': 47, 'n_hidden': 5, 'kernel_size': 8, 'stride': 2, 'act': 'swish'}. Best is trial 0 with value: 0.49807622462377477.\n"
     ]
    },
    {
     "name": "stdout",
     "output_type": "stream",
     "text": [
      "elapsed 8.0:11.007475680000425\n",
      "{'hidden_size': 31, 'embedding_size': 17, 'n_hidden': 5, 'kernel_size': 6, 'stride': 2}\n"
     ]
    },
    {
     "name": "stderr",
     "output_type": "stream",
     "text": [
      "[I 2023-11-14 15:04:41,718] Trial 2 finished with value: 0.08783164666659811 and parameters: {'hidden_size': 31, 'embedding_size': 17, 'n_hidden': 5, 'kernel_size': 6, 'stride': 2, 'act': 'swish'}. Best is trial 0 with value: 0.49807622462377477.\n"
     ]
    },
    {
     "name": "stdout",
     "output_type": "stream",
     "text": [
      "elapsed 8.0:14.017650478001087\n",
      "{'hidden_size': 64, 'embedding_size': 50, 'n_hidden': 2, 'kernel_size': 13, 'stride': 2}\n"
     ]
    },
    {
     "name": "stderr",
     "output_type": "stream",
     "text": [
      "[I 2023-11-14 15:13:23,512] Trial 3 finished with value: 0.5200893762085674 and parameters: {'hidden_size': 64, 'embedding_size': 50, 'n_hidden': 2, 'kernel_size': 13, 'stride': 2, 'act': 'swish'}. Best is trial 3 with value: 0.5200893762085674.\n"
     ]
    },
    {
     "name": "stdout",
     "output_type": "stream",
     "text": [
      "elapsed 8.0:41.79214929099908\n",
      "{'hidden_size': 34, 'embedding_size': 51, 'n_hidden': 5, 'kernel_size': 15, 'stride': 2}\n"
     ]
    },
    {
     "name": "stderr",
     "output_type": "stream",
     "text": [
      "[I 2023-11-14 15:21:36,505] Trial 4 finished with value: 0.08783164666659811 and parameters: {'hidden_size': 34, 'embedding_size': 51, 'n_hidden': 5, 'kernel_size': 15, 'stride': 2, 'act': 'swish'}. Best is trial 3 with value: 0.5200893762085674.\n"
     ]
    },
    {
     "name": "stdout",
     "output_type": "stream",
     "text": [
      "elapsed 8.0:12.991294909999851\n",
      "{'hidden_size': 54, 'embedding_size': 18, 'n_hidden': 5, 'kernel_size': 11, 'stride': 3}\n"
     ]
    },
    {
     "name": "stderr",
     "output_type": "stream",
     "text": [
      "[I 2023-11-14 15:30:07,966] Trial 5 finished with value: 0.183586205169287 and parameters: {'hidden_size': 54, 'embedding_size': 18, 'n_hidden': 5, 'kernel_size': 11, 'stride': 3, 'act': 'relu'}. Best is trial 3 with value: 0.5200893762085674.\n"
     ]
    },
    {
     "name": "stdout",
     "output_type": "stream",
     "text": [
      "elapsed 8.0:31.458900047000498\n",
      "{'hidden_size': 46, 'embedding_size': 29, 'n_hidden': 2, 'kernel_size': 7, 'stride': 2}\n"
     ]
    },
    {
     "name": "stderr",
     "output_type": "stream",
     "text": [
      "[I 2023-11-14 15:38:54,594] Trial 6 finished with value: 0.528464718689946 and parameters: {'hidden_size': 46, 'embedding_size': 29, 'n_hidden': 2, 'kernel_size': 7, 'stride': 2, 'act': 'swish'}. Best is trial 6 with value: 0.528464718689946.\n"
     ]
    },
    {
     "name": "stdout",
     "output_type": "stream",
     "text": [
      "elapsed 8.0:46.626174796998384\n",
      "{'hidden_size': 16, 'embedding_size': 46, 'n_hidden': 2, 'kernel_size': 12, 'stride': 2}\n"
     ]
    },
    {
     "name": "stderr",
     "output_type": "stream",
     "text": [
      "[I 2023-11-14 15:47:34,824] Trial 7 finished with value: 0.32517044665881223 and parameters: {'hidden_size': 16, 'embedding_size': 46, 'n_hidden': 2, 'kernel_size': 12, 'stride': 2, 'act': 'swish'}. Best is trial 6 with value: 0.528464718689946.\n"
     ]
    },
    {
     "name": "stdout",
     "output_type": "stream",
     "text": [
      "elapsed 8.0:40.228034413001296\n",
      "{'hidden_size': 51, 'embedding_size': 26, 'n_hidden': 2, 'kernel_size': 10, 'stride': 3}\n"
     ]
    },
    {
     "name": "stderr",
     "output_type": "stream",
     "text": [
      "[I 2023-11-14 15:56:18,360] Trial 8 finished with value: 0.5798202281961586 and parameters: {'hidden_size': 51, 'embedding_size': 26, 'n_hidden': 2, 'kernel_size': 10, 'stride': 3, 'act': 'relu'}. Best is trial 8 with value: 0.5798202281961586.\n"
     ]
    },
    {
     "name": "stdout",
     "output_type": "stream",
     "text": [
      "elapsed 8.0:43.53411262699956\n",
      "{'hidden_size': 59, 'embedding_size': 58, 'n_hidden': 4, 'kernel_size': 12, 'stride': 2}\n"
     ]
    },
    {
     "name": "stderr",
     "output_type": "stream",
     "text": [
      "[I 2023-11-14 16:04:28,866] Trial 9 finished with value: 0.08783164666659811 and parameters: {'hidden_size': 59, 'embedding_size': 58, 'n_hidden': 4, 'kernel_size': 12, 'stride': 2, 'act': 'swish'}. Best is trial 8 with value: 0.5798202281961586.\n"
     ]
    },
    {
     "name": "stdout",
     "output_type": "stream",
     "text": [
      "elapsed 8.0:10.504187264003122\n",
      "{'hidden_size': 45, 'embedding_size': 32, 'n_hidden': 3, 'kernel_size': 9, 'stride': 3}\n"
     ]
    },
    {
     "name": "stderr",
     "output_type": "stream",
     "text": [
      "[I 2023-11-14 16:13:14,656] Trial 10 finished with value: 0.4342104249272367 and parameters: {'hidden_size': 45, 'embedding_size': 32, 'n_hidden': 3, 'kernel_size': 9, 'stride': 3, 'act': 'relu'}. Best is trial 8 with value: 0.5798202281961586.\n"
     ]
    },
    {
     "name": "stdout",
     "output_type": "stream",
     "text": [
      "elapsed 8.0:45.78837087899956\n",
      "{'hidden_size': 47, 'embedding_size': 33, 'n_hidden': 3, 'kernel_size': 7, 'stride': 3}\n"
     ]
    },
    {
     "name": "stderr",
     "output_type": "stream",
     "text": [
      "[I 2023-11-14 16:21:59,326] Trial 11 finished with value: 0.3996741128504332 and parameters: {'hidden_size': 47, 'embedding_size': 33, 'n_hidden': 3, 'kernel_size': 7, 'stride': 3, 'act': 'relu'}. Best is trial 8 with value: 0.5798202281961586.\n"
     ]
    },
    {
     "name": "stdout",
     "output_type": "stream",
     "text": [
      "elapsed 8.0:44.667964407999534\n",
      "{'hidden_size': 49, 'embedding_size': 27, 'n_hidden': 3, 'kernel_size': 5, 'stride': 1}\n"
     ]
    },
    {
     "name": "stderr",
     "output_type": "stream",
     "text": [
      "[I 2023-11-14 16:30:46,173] Trial 12 finished with value: 0.41234262878895045 and parameters: {'hidden_size': 49, 'embedding_size': 27, 'n_hidden': 3, 'kernel_size': 5, 'stride': 1, 'act': 'relu'}. Best is trial 8 with value: 0.5798202281961586.\n"
     ]
    },
    {
     "name": "stdout",
     "output_type": "stream",
     "text": [
      "elapsed 8.0:46.84529891499915\n",
      "{'hidden_size': 40, 'embedding_size': 38, 'n_hidden': 2, 'kernel_size': 10, 'stride': 3}\n"
     ]
    },
    {
     "name": "stderr",
     "output_type": "stream",
     "text": [
      "[I 2023-11-14 16:39:31,788] Trial 13 finished with value: 0.501728769544843 and parameters: {'hidden_size': 40, 'embedding_size': 38, 'n_hidden': 2, 'kernel_size': 10, 'stride': 3, 'act': 'relu'}. Best is trial 8 with value: 0.5798202281961586.\n"
     ]
    },
    {
     "name": "stdout",
     "output_type": "stream",
     "text": [
      "elapsed 8.0:45.61302098899978\n",
      "{'hidden_size': 39, 'embedding_size': 24, 'n_hidden': 4, 'kernel_size': 3, 'stride': 1}\n"
     ]
    },
    {
     "name": "stderr",
     "output_type": "stream",
     "text": [
      "[I 2023-11-14 16:47:54,375] Trial 14 finished with value: 0.16755391562849747 and parameters: {'hidden_size': 39, 'embedding_size': 24, 'n_hidden': 4, 'kernel_size': 3, 'stride': 1, 'act': 'swish'}. Best is trial 8 with value: 0.5798202281961586.\n"
     ]
    },
    {
     "name": "stdout",
     "output_type": "stream",
     "text": [
      "elapsed 8.0:22.584948515999713\n",
      "{'hidden_size': 52, 'embedding_size': 38, 'n_hidden': 3, 'kernel_size': 8, 'stride': 3}\n"
     ]
    },
    {
     "name": "stderr",
     "output_type": "stream",
     "text": [
      "[I 2023-11-14 16:56:50,405] Trial 15 finished with value: 0.39097073310225344 and parameters: {'hidden_size': 52, 'embedding_size': 38, 'n_hidden': 3, 'kernel_size': 8, 'stride': 3, 'act': 'relu'}. Best is trial 8 with value: 0.5798202281961586.\n"
     ]
    },
    {
     "name": "stdout",
     "output_type": "stream",
     "text": [
      "elapsed 8.0:56.02818679200209\n",
      "{'hidden_size': 31, 'embedding_size': 24, 'n_hidden': 2, 'kernel_size': 6, 'stride': 3}\n"
     ]
    },
    {
     "name": "stderr",
     "output_type": "stream",
     "text": [
      "[I 2023-11-14 17:05:43,037] Trial 16 finished with value: 0.44264491708866444 and parameters: {'hidden_size': 31, 'embedding_size': 24, 'n_hidden': 2, 'kernel_size': 6, 'stride': 3, 'act': 'swish'}. Best is trial 8 with value: 0.5798202281961586.\n"
     ]
    },
    {
     "name": "stdout",
     "output_type": "stream",
     "text": [
      "elapsed 8.0:52.63005767100185\n",
      "{'hidden_size': 44, 'embedding_size': 32, 'n_hidden': 2, 'kernel_size': 10, 'stride': 1}\n"
     ]
    },
    {
     "name": "stderr",
     "output_type": "stream",
     "text": [
      "[I 2023-11-14 17:14:35,045] Trial 17 finished with value: 0.569318626718968 and parameters: {'hidden_size': 44, 'embedding_size': 32, 'n_hidden': 2, 'kernel_size': 10, 'stride': 1, 'act': 'relu'}. Best is trial 8 with value: 0.5798202281961586.\n"
     ]
    },
    {
     "name": "stdout",
     "output_type": "stream",
     "text": [
      "elapsed 8.0:52.006910266001796\n",
      "{'hidden_size': 24, 'embedding_size': 34, 'n_hidden': 4, 'kernel_size': 14, 'stride': 1}\n"
     ]
    },
    {
     "name": "stderr",
     "output_type": "stream",
     "text": [
      "[I 2023-11-14 17:23:30,698] Trial 18 finished with value: 0.3209428212090625 and parameters: {'hidden_size': 24, 'embedding_size': 34, 'n_hidden': 4, 'kernel_size': 14, 'stride': 1, 'act': 'relu'}. Best is trial 8 with value: 0.5798202281961586.\n"
     ]
    },
    {
     "name": "stdout",
     "output_type": "stream",
     "text": [
      "elapsed 8.0:55.649752036999416\n",
      "{'hidden_size': 42, 'embedding_size': 43, 'n_hidden': 3, 'kernel_size': 10, 'stride': 1}\n"
     ]
    },
    {
     "name": "stderr",
     "output_type": "stream",
     "text": [
      "[I 2023-11-14 17:32:24,956] Trial 19 finished with value: 0.5115163412331303 and parameters: {'hidden_size': 42, 'embedding_size': 43, 'n_hidden': 3, 'kernel_size': 10, 'stride': 1, 'act': 'relu'}. Best is trial 8 with value: 0.5798202281961586.\n"
     ]
    },
    {
     "name": "stdout",
     "output_type": "stream",
     "text": [
      "elapsed 8.0:54.25632870000118\n"
     ]
    }
   ],
   "source": [
    "study = optuna.create_study(direction='maximize')\n",
    "study.optimize(objective, n_trials=20)"
   ]
  },
  {
   "cell_type": "code",
   "execution_count": 13,
   "metadata": {},
   "outputs": [],
   "source": [
    "from torch.utils.data import DataLoader\n",
    "from pytorch_metric_learning.losses import SelfSupervisedLoss, NTXentLoss\n",
    "from models import Extractor, Projector, ExtractorMLP\n",
    "\n",
    "device = torch.device('cuda:0' if torch.cuda.is_available() else 'cpu')\n",
    "\n",
    "# extractor_1d = Extractor(n_features=pca__n_components, n_channels=1).to(device)\n",
    "# extractor_3d = Extractor(n_features=pca__n_components, n_channels=3).to(device)\n",
    "\n",
    "extractor_1d = ExtractorMLP(n_features=pca__n_components, n_channels=1).to(device)\n",
    "extractor_3d = Extractor(n_features=pca__n_components, n_channels=X_new.shape[1]).to(device)\n",
    "\n",
    "\n",
    "projector = Projector().to(device)\n",
    "\n",
    "lr = 1e-3\n",
    "weight_decay = 1e-4\n",
    "batch_size = 1024\n",
    "epochs = 200\n",
    "\n",
    "org_dataloader = DataLoader(org_dataset, batch_size=batch_size,)\n",
    "pos_dataloader = DataLoader(pos_dataset, batch_size=batch_size)\n",
    "\n",
    "optimizer_1d = torch.optim.Adam(extractor_1d.parameters(), lr=lr, weight_decay=weight_decay)\n",
    "optimizer_3d = torch.optim.Adam(extractor_3d.parameters(), lr=lr, weight_decay=weight_decay)\n",
    "optimizer_projector = torch.optim.Adam(projector.parameters(), lr=lr, weight_decay=weight_decay)\n",
    "\n",
    "loss_fn = NTXentLoss()\n",
    "loss_fn = SelfSupervisedLoss(loss_fn, symmetric=False).to(device)"
   ]
  },
  {
   "cell_type": "code",
   "execution_count": 14,
   "metadata": {},
   "outputs": [
    {
     "name": "stdout",
     "output_type": "stream",
     "text": [
      "[0/200]: 112.05561399459839\n",
      "[1/200]: 110.48021125793457\n",
      "[2/200]: 109.90722608566284\n",
      "[3/200]: 107.56851625442505\n",
      "[4/200]: 103.48046064376831\n",
      "[5/200]: 98.32909202575684\n",
      "[6/200]: 94.77883672714233\n",
      "[7/200]: 91.1114730834961\n",
      "[8/200]: 88.65277338027954\n",
      "[9/200]: 85.65478372573853\n",
      "[10/200]: 84.32544898986816\n",
      "[11/200]: 80.29822444915771\n",
      "[12/200]: 78.06781959533691\n",
      "[13/200]: 76.78608655929565\n",
      "[14/200]: 76.09594678878784\n",
      "[15/200]: 75.09872150421143\n",
      "[16/200]: 74.23813819885254\n",
      "[17/200]: 73.74305152893066\n",
      "[18/200]: 72.91334962844849\n",
      "[19/200]: 72.11415243148804\n",
      "[20/200]: 71.37584447860718\n",
      "[21/200]: 71.2349591255188\n",
      "[22/200]: 70.75021648406982\n",
      "[23/200]: 70.38265824317932\n",
      "[24/200]: 69.3975465297699\n",
      "[25/200]: 69.01264643669128\n",
      "[26/200]: 68.33845257759094\n",
      "[27/200]: 68.07618451118469\n",
      "[28/200]: 67.73077058792114\n",
      "[29/200]: 67.36526417732239\n",
      "[30/200]: 66.3752453327179\n",
      "[31/200]: 66.33001828193665\n",
      "[32/200]: 65.94526934623718\n",
      "[33/200]: 65.87197661399841\n",
      "[34/200]: 64.30150747299194\n",
      "[35/200]: 63.66439986228943\n",
      "[36/200]: 63.90059185028076\n",
      "[37/200]: 64.14990782737732\n",
      "[38/200]: 62.757468700408936\n",
      "[39/200]: 62.409865856170654\n",
      "[40/200]: 61.01596450805664\n",
      "[41/200]: 60.185189723968506\n",
      "[42/200]: 60.4298460483551\n",
      "[43/200]: 60.23474860191345\n",
      "[44/200]: 58.49637460708618\n",
      "[45/200]: 63.62082290649414\n",
      "[46/200]: 61.07671570777893\n",
      "[47/200]: 58.226752042770386\n",
      "[48/200]: 58.22750115394592\n",
      "[49/200]: 56.369539737701416\n",
      "[50/200]: 58.243902921676636\n",
      "[51/200]: 57.139649868011475\n",
      "[52/200]: 56.5278685092926\n",
      "[53/200]: 55.5894877910614\n",
      "[54/200]: 55.11827039718628\n",
      "[55/200]: 54.47217392921448\n",
      "[56/200]: 55.56336760520935\n",
      "[57/200]: 54.42341685295105\n",
      "[58/200]: 53.67778921127319\n",
      "[59/200]: 53.231360912323\n",
      "[60/200]: 55.22901487350464\n",
      "[61/200]: 54.34377598762512\n",
      "[62/200]: 53.124139070510864\n",
      "[63/200]: 54.436237812042236\n",
      "[64/200]: 52.968069076538086\n",
      "[65/200]: 53.76738905906677\n",
      "[66/200]: 52.70269227027893\n",
      "[67/200]: 52.24742126464844\n",
      "[68/200]: 52.728657960891724\n",
      "[69/200]: 52.03980469703674\n",
      "[70/200]: 53.14822173118591\n",
      "[71/200]: 52.25605487823486\n",
      "[72/200]: 51.117175340652466\n",
      "[73/200]: 50.716254472732544\n",
      "[74/200]: 50.2883415222168\n",
      "[75/200]: 49.94507646560669\n",
      "[76/200]: 49.779446601867676\n",
      "[77/200]: 50.24931597709656\n",
      "[78/200]: 49.637553691864014\n",
      "[79/200]: 49.24316143989563\n",
      "[80/200]: 49.652984619140625\n",
      "[81/200]: 49.45314693450928\n",
      "[82/200]: 49.08584761619568\n",
      "[83/200]: 49.68820881843567\n",
      "[84/200]: 50.92526173591614\n",
      "[85/200]: 49.670310974121094\n",
      "[86/200]: 49.449836015701294\n",
      "[87/200]: 51.16684532165527\n",
      "[88/200]: 50.07724046707153\n",
      "[89/200]: 49.192981004714966\n",
      "[90/200]: 48.04565739631653\n",
      "[91/200]: 50.78844356536865\n",
      "[92/200]: 50.40276074409485\n",
      "[93/200]: 50.32256102561951\n",
      "[94/200]: 48.50206279754639\n",
      "[95/200]: 48.641138553619385\n",
      "[96/200]: 47.651509046554565\n",
      "[97/200]: 47.78960132598877\n",
      "[98/200]: 47.80531096458435\n",
      "[99/200]: 47.08478379249573\n",
      "[100/200]: 48.44002819061279\n",
      "[101/200]: 48.50343728065491\n",
      "[102/200]: 47.86515164375305\n",
      "[103/200]: 47.24079418182373\n",
      "[104/200]: 46.81311559677124\n",
      "[105/200]: 46.73854446411133\n",
      "[106/200]: 46.052385330200195\n",
      "[107/200]: 46.50133442878723\n",
      "[108/200]: 45.56221079826355\n",
      "[109/200]: 48.75390434265137\n",
      "[110/200]: 47.688525438308716\n",
      "[111/200]: 45.557506799697876\n",
      "[112/200]: 46.804741859436035\n",
      "[113/200]: 45.647992849349976\n",
      "[114/200]: 44.86318063735962\n",
      "[115/200]: 47.077706813812256\n",
      "[116/200]: 46.22894859313965\n",
      "[117/200]: 45.680954456329346\n",
      "[118/200]: 44.825042963027954\n",
      "[119/200]: 45.988686323165894\n",
      "[120/200]: 45.28332233428955\n",
      "[121/200]: 44.90185570716858\n",
      "[122/200]: 43.99152994155884\n",
      "[123/200]: 45.16845178604126\n",
      "[124/200]: 45.23564028739929\n",
      "[125/200]: 45.6081645488739\n",
      "[126/200]: 45.0438871383667\n",
      "[127/200]: 45.5411331653595\n",
      "[128/200]: 44.47887182235718\n",
      "[129/200]: 44.89181470870972\n",
      "[130/200]: 44.755953311920166\n",
      "[131/200]: 44.66424083709717\n",
      "[132/200]: 44.52857232093811\n",
      "[133/200]: 43.407835483551025\n",
      "[134/200]: 43.40145444869995\n",
      "[135/200]: 42.16506028175354\n",
      "[136/200]: 41.966267347335815\n",
      "[137/200]: 44.5830295085907\n",
      "[138/200]: 43.9260892868042\n",
      "[139/200]: 43.22139525413513\n",
      "[140/200]: 42.5841121673584\n",
      "[141/200]: 41.86711406707764\n",
      "[142/200]: 41.76682472229004\n",
      "[143/200]: 44.71908521652222\n",
      "[144/200]: 44.63869595527649\n",
      "[145/200]: 43.5232367515564\n",
      "[146/200]: 42.98151350021362\n",
      "[147/200]: 43.01166224479675\n",
      "[148/200]: 42.57182836532593\n",
      "[149/200]: 41.819493770599365\n",
      "[150/200]: 42.807077169418335\n",
      "[151/200]: 42.05097007751465\n",
      "[152/200]: 41.263099908828735\n",
      "[153/200]: 41.5520761013031\n",
      "[154/200]: 40.58557605743408\n",
      "[155/200]: 40.55404591560364\n",
      "[156/200]: 41.167644739151\n",
      "[157/200]: 41.74341583251953\n",
      "[158/200]: 42.00084853172302\n",
      "[159/200]: 42.16101670265198\n",
      "[160/200]: 42.080233335494995\n",
      "[161/200]: 42.52845501899719\n",
      "[162/200]: 41.07721400260925\n",
      "[163/200]: 42.58753275871277\n",
      "[164/200]: 42.37818264961243\n",
      "[165/200]: 41.67242646217346\n",
      "[166/200]: 41.42212247848511\n",
      "[167/200]: 40.97049331665039\n",
      "[168/200]: 40.69408416748047\n",
      "[169/200]: 39.61433482170105\n",
      "[170/200]: 39.20096707344055\n",
      "[171/200]: 39.658759117126465\n",
      "[172/200]: 40.52798414230347\n",
      "[173/200]: 41.10636496543884\n",
      "[174/200]: 39.84030747413635\n",
      "[175/200]: 41.72806215286255\n",
      "[176/200]: 41.68102288246155\n",
      "[177/200]: 40.66358518600464\n",
      "[178/200]: 41.19589924812317\n",
      "[179/200]: 41.48086357116699\n",
      "[180/200]: 40.83978605270386\n",
      "[181/200]: 39.02336001396179\n",
      "[182/200]: 39.51971888542175\n",
      "[183/200]: 38.91959071159363\n",
      "[184/200]: 39.077447175979614\n",
      "[185/200]: 39.822028160095215\n",
      "[186/200]: 38.87900900840759\n",
      "[187/200]: 38.984928131103516\n",
      "[188/200]: 39.10241508483887\n",
      "[189/200]: 39.02420139312744\n",
      "[190/200]: 39.264540910720825\n",
      "[191/200]: 39.35306358337402\n",
      "[192/200]: 40.37721800804138\n",
      "[193/200]: 38.658282995224\n",
      "[194/200]: 39.881221294403076\n",
      "[195/200]: 39.012513875961304\n",
      "[196/200]: 37.99895167350769\n",
      "[197/200]: 37.040446162223816\n",
      "[198/200]: 37.88823890686035\n",
      "[199/200]: 37.34373712539673\n"
     ]
    }
   ],
   "source": [
    "from itertools import cycle\n",
    "from torch.utils.tensorboard import SummaryWriter\n",
    "\n",
    "writer = SummaryWriter(log_dir='./runs')\n",
    "\n",
    "cnt = 1\n",
    "\n",
    "for epoch in range(epochs):\n",
    "    total_loss = 0\n",
    "    for item1, item2 in zip(org_dataloader, cycle(pos_dataloader)):\n",
    "        X_batch, _ = item1\n",
    "        X_new_batch, _ = item2\n",
    "\n",
    "        X_batch = X_batch.to(device)\n",
    "        X_new_batch = X_new_batch.to(device)\n",
    "\n",
    "        optimizer_1d.zero_grad()\n",
    "        optimizer_3d.zero_grad()\n",
    "        optimizer_projector.zero_grad()\n",
    "\n",
    "        embedding_1d = extractor_1d(X_batch)\n",
    "        embedding_3d = extractor_3d(X_new_batch)\n",
    "        projected_1d = projector(embedding_1d)\n",
    "        projected_3d = projector(embedding_3d)\n",
    "\n",
    "        loss = loss_fn(projected_1d, projected_3d)\n",
    "        loss.backward()\n",
    "\n",
    "        total_loss += loss.item()\n",
    "    \n",
    "        optimizer_1d.step()\n",
    "        optimizer_3d.step()\n",
    "        optimizer_projector.step()\n",
    "\n",
    "    cnt += 1\n",
    "\n",
    "    print(f'[{epoch}/{epochs}]: {total_loss}')\n",
    "    \n",
    "    writer.add_scalar('Loss/train', total_loss, cnt)"
   ]
  },
  {
   "cell_type": "code",
   "execution_count": 15,
   "metadata": {},
   "outputs": [
    {
     "data": {
      "text/plain": [
       "(4000, 20)"
      ]
     },
     "execution_count": 15,
     "metadata": {},
     "output_type": "execute_result"
    }
   ],
   "source": [
    "X_val.shape"
   ]
  },
  {
   "cell_type": "code",
   "execution_count": null,
   "metadata": {},
   "outputs": [],
   "source": []
  },
  {
   "cell_type": "code",
   "execution_count": 16,
   "metadata": {},
   "outputs": [],
   "source": [
    "X_val_tensor = torch.tensor(np.expand_dims(X_val, axis=2).transpose((0, 2, 1)), dtype=torch.float32, device=device)\n",
    "\n",
    "X_val_embedding = extractor_1d(X_val_tensor)"
   ]
  },
  {
   "cell_type": "code",
   "execution_count": 17,
   "metadata": {},
   "outputs": [
    {
     "data": {
      "text/plain": [
       "(4000, 64)"
      ]
     },
     "execution_count": 17,
     "metadata": {},
     "output_type": "execute_result"
    }
   ],
   "source": [
    "X_val_embedding = X_val_embedding.cpu().detach().numpy()\n",
    "X_val_embedding.shape"
   ]
  },
  {
   "cell_type": "code",
   "execution_count": 23,
   "metadata": {},
   "outputs": [
    {
     "name": "stderr",
     "output_type": "stream",
     "text": [
      "/home/chan/miniconda3/envs/csi5388/lib/python3.10/site-packages/sklearn/model_selection/_split.py:737: UserWarning: The least populated class in y has only 1 members, which is less than n_splits=5.\n",
      "  warnings.warn(\n",
      "/home/chan/miniconda3/envs/csi5388/lib/python3.10/site-packages/sklearn/neural_network/_multilayer_perceptron.py:691: ConvergenceWarning: Stochastic Optimizer: Maximum iterations (500) reached and the optimization hasn't converged yet.\n",
      "  warnings.warn(\n",
      "/home/chan/miniconda3/envs/csi5388/lib/python3.10/site-packages/sklearn/neural_network/_multilayer_perceptron.py:691: ConvergenceWarning: Stochastic Optimizer: Maximum iterations (500) reached and the optimization hasn't converged yet.\n",
      "  warnings.warn(\n",
      "/home/chan/miniconda3/envs/csi5388/lib/python3.10/site-packages/sklearn/neural_network/_multilayer_perceptron.py:691: ConvergenceWarning: Stochastic Optimizer: Maximum iterations (500) reached and the optimization hasn't converged yet.\n",
      "  warnings.warn(\n",
      "/home/chan/miniconda3/envs/csi5388/lib/python3.10/site-packages/sklearn/neural_network/_multilayer_perceptron.py:691: ConvergenceWarning: Stochastic Optimizer: Maximum iterations (500) reached and the optimization hasn't converged yet.\n",
      "  warnings.warn(\n"
     ]
    },
    {
     "name": "stdout",
     "output_type": "stream",
     "text": [
      "0.4410090710321265\n"
     ]
    },
    {
     "name": "stderr",
     "output_type": "stream",
     "text": [
      "/home/chan/miniconda3/envs/csi5388/lib/python3.10/site-packages/sklearn/neural_network/_multilayer_perceptron.py:691: ConvergenceWarning: Stochastic Optimizer: Maximum iterations (500) reached and the optimization hasn't converged yet.\n",
      "  warnings.warn(\n"
     ]
    },
    {
     "data": {
      "text/plain": [
       "{'fit_time': array([8.09933853, 6.75865793, 5.93444586, 5.98762298, 5.97618055]),\n",
       " 'score_time': array([0.00265503, 0.00236368, 0.00260377, 0.00256729, 0.00236034]),\n",
       " 'test_score': array([0.57589735, 0.43172675, 0.42881156, 0.32170462, 0.44690507])}"
      ]
     },
     "execution_count": 23,
     "metadata": {},
     "output_type": "execute_result"
    }
   ],
   "source": [
    "from sklearn.neural_network import MLPClassifier\n",
    "from sklearn.model_selection import cross_validate, StratifiedKFold\n",
    "\n",
    "random_state = 42\n",
    "\n",
    "mlp = MLPClassifier(max_iter=500, random_state=random_state)\n",
    "\n",
    "cv = StratifiedKFold(n_splits=5, random_state=random_state, shuffle=True)\n",
    "\n",
    "results = cross_validate(mlp, X_val_embedding, y_val, cv=cv, scoring='f1_macro')\n",
    "\n",
    "# mlp.fit(X_val_embedding, y_val)\n",
    "\n",
    "print(np.average(results['test_score']))\n",
    "results"
   ]
  },
  {
   "cell_type": "code",
   "execution_count": 24,
   "metadata": {},
   "outputs": [
    {
     "name": "stderr",
     "output_type": "stream",
     "text": [
      "/home/chan/miniconda3/envs/csi5388/lib/python3.10/site-packages/sklearn/model_selection/_split.py:737: UserWarning: The least populated class in y has only 1 members, which is less than n_splits=5.\n",
      "  warnings.warn(\n",
      "/home/chan/miniconda3/envs/csi5388/lib/python3.10/site-packages/sklearn/neural_network/_multilayer_perceptron.py:691: ConvergenceWarning: Stochastic Optimizer: Maximum iterations (500) reached and the optimization hasn't converged yet.\n",
      "  warnings.warn(\n"
     ]
    },
    {
     "name": "stdout",
     "output_type": "stream",
     "text": [
      "0.5958775258811952\n"
     ]
    },
    {
     "name": "stderr",
     "output_type": "stream",
     "text": [
      "/home/chan/miniconda3/envs/csi5388/lib/python3.10/site-packages/sklearn/neural_network/_multilayer_perceptron.py:691: ConvergenceWarning: Stochastic Optimizer: Maximum iterations (500) reached and the optimization hasn't converged yet.\n",
      "  warnings.warn(\n"
     ]
    },
    {
     "data": {
      "text/plain": [
       "{'fit_time': array([6.04724741, 6.15044379, 5.53555751, 5.52676415, 6.43290496]),\n",
       " 'score_time': array([0.00250936, 0.00274992, 0.0025034 , 0.00246501, 0.00248027]),\n",
       " 'test_score': array([0.66201233, 0.59172573, 0.69101491, 0.49118071, 0.54345395])}"
      ]
     },
     "execution_count": 24,
     "metadata": {},
     "output_type": "execute_result"
    }
   ],
   "source": [
    "from sklearn.neural_network import MLPClassifier\n",
    "from sklearn.model_selection import cross_validate\n",
    "\n",
    "mlp = MLPClassifier(max_iter=500, random_state=42)\n",
    "\n",
    "cv = StratifiedKFold(5, random_state=42, shuffle=True)\n",
    "\n",
    "results = cross_validate(mlp, X_val, y_val, cv=cv, scoring='f1_macro')\n",
    "\n",
    "print(np.average(results['test_score']))\n",
    "results\n",
    "\n"
   ]
  },
  {
   "cell_type": "code",
   "execution_count": null,
   "metadata": {},
   "outputs": [],
   "source": []
  }
 ],
 "metadata": {
  "kernelspec": {
   "display_name": "csi5388",
   "language": "python",
   "name": "python3"
  },
  "language_info": {
   "codemirror_mode": {
    "name": "ipython",
    "version": 3
   },
   "file_extension": ".py",
   "mimetype": "text/x-python",
   "name": "python",
   "nbconvert_exporter": "python",
   "pygments_lexer": "ipython3",
   "version": "3.10.13"
  }
 },
 "nbformat": 4,
 "nbformat_minor": 2
}
