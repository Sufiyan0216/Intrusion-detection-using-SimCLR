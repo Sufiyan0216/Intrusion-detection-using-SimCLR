{
 "cells": [
  {
   "cell_type": "code",
   "execution_count": 1,
   "metadata": {},
   "outputs": [],
   "source": [
    "import gc\n",
    "import os\n",
    "import numpy as np\n",
    "import pandas as pd\n",
    "import sklearn\n",
    "import matplotlib.pyplot as plt\n",
    "import seaborn as sns\n",
    "import plotly.express as px\n",
    "import pickle\n",
    "from sklearn.utils import resample\n",
    "from collections import Counter\n",
    "import math\n",
    "from sklearn.model_selection import train_test_split\n",
    "import helper\n",
    "import dataset\n",
    "import torch\n",
    "import torch.nn as nn\n",
    "from resnet1d.net1d import Net1D"
   ]
  },
  {
   "cell_type": "code",
   "execution_count": 2,
   "metadata": {},
   "outputs": [
    {
     "data": {
      "text/plain": [
       "(2830743, 79)"
      ]
     },
     "execution_count": 2,
     "metadata": {},
     "output_type": "execute_result"
    }
   ],
   "source": [
    "data_files = [name for name in os.listdir('./data')]\n",
    "\n",
    "dfs = []\n",
    "\n",
    "for i in range(len(data_files)):\n",
    "    fname = './data/' + data_files[i]\n",
    "    df = pd.read_csv(fname)\n",
    "    # df.columns = [x.strip().lstrip() for x in df.columns]\n",
    "\n",
    "    dfs.append(df)\n",
    "\n",
    "df = pd.concat(dfs, axis=0, ignore_index=True)\n",
    "\n",
    "df.shape"
   ]
  },
  {
   "cell_type": "code",
   "execution_count": 3,
   "metadata": {},
   "outputs": [
    {
     "data": {
      "text/plain": [
       "(2830743, 79)"
      ]
     },
     "execution_count": 3,
     "metadata": {},
     "output_type": "execute_result"
    }
   ],
   "source": [
    "# Remove spaces in the front and the end of the column names for better human reading\n",
    "df.columns = [x.lstrip().strip().replace('�', '-') for x in df.columns]\n",
    "df.shape"
   ]
  },
  {
   "cell_type": "code",
   "execution_count": 4,
   "metadata": {},
   "outputs": [
    {
     "data": {
      "text/plain": [
       "(2827876, 79)"
      ]
     },
     "execution_count": 4,
     "metadata": {},
     "output_type": "execute_result"
    }
   ],
   "source": [
    "# replace inf values to nan\n",
    "df.replace([np.inf, -np.inf], np.nan, inplace=True)\n",
    "df.dropna(inplace=True)\n",
    "df.shape"
   ]
  },
  {
   "cell_type": "code",
   "execution_count": 5,
   "metadata": {},
   "outputs": [],
   "source": [
    "df_train, df_val = train_test_split(df, stratify=df['Label'], test_size=0.2, random_state=42)"
   ]
  },
  {
   "cell_type": "code",
   "execution_count": 6,
   "metadata": {},
   "outputs": [],
   "source": [
    "X = df_val.drop(['Label'], axis=1)\n",
    "y = df_val['Label']"
   ]
  },
  {
   "cell_type": "code",
   "execution_count": 7,
   "metadata": {},
   "outputs": [],
   "source": [
    "with open('./dist/labelencoder-resnet.pkl', 'rb') as f:\n",
    "    label_encoder = pickle.load(f)\n",
    "\n",
    "with open('./dist/preprocessor-resnet.pkl', 'rb') as f:\n",
    "    preprocessor = pickle.load(f)"
   ]
  },
  {
   "cell_type": "code",
   "execution_count": 8,
   "metadata": {},
   "outputs": [
    {
     "data": {
      "text/html": [
       "<style>#sk-container-id-1 {color: black;}#sk-container-id-1 pre{padding: 0;}#sk-container-id-1 div.sk-toggleable {background-color: white;}#sk-container-id-1 label.sk-toggleable__label {cursor: pointer;display: block;width: 100%;margin-bottom: 0;padding: 0.3em;box-sizing: border-box;text-align: center;}#sk-container-id-1 label.sk-toggleable__label-arrow:before {content: \"▸\";float: left;margin-right: 0.25em;color: #696969;}#sk-container-id-1 label.sk-toggleable__label-arrow:hover:before {color: black;}#sk-container-id-1 div.sk-estimator:hover label.sk-toggleable__label-arrow:before {color: black;}#sk-container-id-1 div.sk-toggleable__content {max-height: 0;max-width: 0;overflow: hidden;text-align: left;background-color: #f0f8ff;}#sk-container-id-1 div.sk-toggleable__content pre {margin: 0.2em;color: black;border-radius: 0.25em;background-color: #f0f8ff;}#sk-container-id-1 input.sk-toggleable__control:checked~div.sk-toggleable__content {max-height: 200px;max-width: 100%;overflow: auto;}#sk-container-id-1 input.sk-toggleable__control:checked~label.sk-toggleable__label-arrow:before {content: \"▾\";}#sk-container-id-1 div.sk-estimator input.sk-toggleable__control:checked~label.sk-toggleable__label {background-color: #d4ebff;}#sk-container-id-1 div.sk-label input.sk-toggleable__control:checked~label.sk-toggleable__label {background-color: #d4ebff;}#sk-container-id-1 input.sk-hidden--visually {border: 0;clip: rect(1px 1px 1px 1px);clip: rect(1px, 1px, 1px, 1px);height: 1px;margin: -1px;overflow: hidden;padding: 0;position: absolute;width: 1px;}#sk-container-id-1 div.sk-estimator {font-family: monospace;background-color: #f0f8ff;border: 1px dotted black;border-radius: 0.25em;box-sizing: border-box;margin-bottom: 0.5em;}#sk-container-id-1 div.sk-estimator:hover {background-color: #d4ebff;}#sk-container-id-1 div.sk-parallel-item::after {content: \"\";width: 100%;border-bottom: 1px solid gray;flex-grow: 1;}#sk-container-id-1 div.sk-label:hover label.sk-toggleable__label {background-color: #d4ebff;}#sk-container-id-1 div.sk-serial::before {content: \"\";position: absolute;border-left: 1px solid gray;box-sizing: border-box;top: 0;bottom: 0;left: 50%;z-index: 0;}#sk-container-id-1 div.sk-serial {display: flex;flex-direction: column;align-items: center;background-color: white;padding-right: 0.2em;padding-left: 0.2em;position: relative;}#sk-container-id-1 div.sk-item {position: relative;z-index: 1;}#sk-container-id-1 div.sk-parallel {display: flex;align-items: stretch;justify-content: center;background-color: white;position: relative;}#sk-container-id-1 div.sk-item::before, #sk-container-id-1 div.sk-parallel-item::before {content: \"\";position: absolute;border-left: 1px solid gray;box-sizing: border-box;top: 0;bottom: 0;left: 50%;z-index: -1;}#sk-container-id-1 div.sk-parallel-item {display: flex;flex-direction: column;z-index: 1;position: relative;background-color: white;}#sk-container-id-1 div.sk-parallel-item:first-child::after {align-self: flex-end;width: 50%;}#sk-container-id-1 div.sk-parallel-item:last-child::after {align-self: flex-start;width: 50%;}#sk-container-id-1 div.sk-parallel-item:only-child::after {width: 0;}#sk-container-id-1 div.sk-dashed-wrapped {border: 1px dashed gray;margin: 0 0.4em 0.5em 0.4em;box-sizing: border-box;padding-bottom: 0.4em;background-color: white;}#sk-container-id-1 div.sk-label label {font-family: monospace;font-weight: bold;display: inline-block;line-height: 1.2em;}#sk-container-id-1 div.sk-label-container {text-align: center;}#sk-container-id-1 div.sk-container {/* jupyter's `normalize.less` sets `[hidden] { display: none; }` but bootstrap.min.css set `[hidden] { display: none !important; }` so we also need the `!important` here to be able to override the default hidden behavior on the sphinx rendered scikit-learn.org. See: https://github.com/scikit-learn/scikit-learn/issues/21755 */display: inline-block !important;position: relative;}#sk-container-id-1 div.sk-text-repr-fallback {display: none;}</style><div id=\"sk-container-id-1\" class=\"sk-top-container\"><div class=\"sk-text-repr-fallback\"><pre>Pipeline(steps=[(&#x27;imputer&#x27;, SimpleImputer(strategy=&#x27;most_frequent&#x27;)),\n",
       "                (&#x27;normalize&#x27;, MinMaxScaler()), (&#x27;PCA&#x27;, PCA(n_components=20))])</pre><b>In a Jupyter environment, please rerun this cell to show the HTML representation or trust the notebook. <br />On GitHub, the HTML representation is unable to render, please try loading this page with nbviewer.org.</b></div><div class=\"sk-container\" hidden><div class=\"sk-item sk-dashed-wrapped\"><div class=\"sk-label-container\"><div class=\"sk-label sk-toggleable\"><input class=\"sk-toggleable__control sk-hidden--visually\" id=\"sk-estimator-id-1\" type=\"checkbox\" ><label for=\"sk-estimator-id-1\" class=\"sk-toggleable__label sk-toggleable__label-arrow\">Pipeline</label><div class=\"sk-toggleable__content\"><pre>Pipeline(steps=[(&#x27;imputer&#x27;, SimpleImputer(strategy=&#x27;most_frequent&#x27;)),\n",
       "                (&#x27;normalize&#x27;, MinMaxScaler()), (&#x27;PCA&#x27;, PCA(n_components=20))])</pre></div></div></div><div class=\"sk-serial\"><div class=\"sk-item\"><div class=\"sk-estimator sk-toggleable\"><input class=\"sk-toggleable__control sk-hidden--visually\" id=\"sk-estimator-id-2\" type=\"checkbox\" ><label for=\"sk-estimator-id-2\" class=\"sk-toggleable__label sk-toggleable__label-arrow\">SimpleImputer</label><div class=\"sk-toggleable__content\"><pre>SimpleImputer(strategy=&#x27;most_frequent&#x27;)</pre></div></div></div><div class=\"sk-item\"><div class=\"sk-estimator sk-toggleable\"><input class=\"sk-toggleable__control sk-hidden--visually\" id=\"sk-estimator-id-3\" type=\"checkbox\" ><label for=\"sk-estimator-id-3\" class=\"sk-toggleable__label sk-toggleable__label-arrow\">MinMaxScaler</label><div class=\"sk-toggleable__content\"><pre>MinMaxScaler()</pre></div></div></div><div class=\"sk-item\"><div class=\"sk-estimator sk-toggleable\"><input class=\"sk-toggleable__control sk-hidden--visually\" id=\"sk-estimator-id-4\" type=\"checkbox\" ><label for=\"sk-estimator-id-4\" class=\"sk-toggleable__label sk-toggleable__label-arrow\">PCA</label><div class=\"sk-toggleable__content\"><pre>PCA(n_components=20)</pre></div></div></div></div></div></div></div>"
      ],
      "text/plain": [
       "Pipeline(steps=[('imputer', SimpleImputer(strategy='most_frequent')),\n",
       "                ('normalize', MinMaxScaler()), ('PCA', PCA(n_components=20))])"
      ]
     },
     "execution_count": 8,
     "metadata": {},
     "output_type": "execute_result"
    }
   ],
   "source": [
    "preprocessor"
   ]
  },
  {
   "cell_type": "code",
   "execution_count": 9,
   "metadata": {},
   "outputs": [
    {
     "data": {
      "text/html": [
       "<style>#sk-container-id-2 {color: black;}#sk-container-id-2 pre{padding: 0;}#sk-container-id-2 div.sk-toggleable {background-color: white;}#sk-container-id-2 label.sk-toggleable__label {cursor: pointer;display: block;width: 100%;margin-bottom: 0;padding: 0.3em;box-sizing: border-box;text-align: center;}#sk-container-id-2 label.sk-toggleable__label-arrow:before {content: \"▸\";float: left;margin-right: 0.25em;color: #696969;}#sk-container-id-2 label.sk-toggleable__label-arrow:hover:before {color: black;}#sk-container-id-2 div.sk-estimator:hover label.sk-toggleable__label-arrow:before {color: black;}#sk-container-id-2 div.sk-toggleable__content {max-height: 0;max-width: 0;overflow: hidden;text-align: left;background-color: #f0f8ff;}#sk-container-id-2 div.sk-toggleable__content pre {margin: 0.2em;color: black;border-radius: 0.25em;background-color: #f0f8ff;}#sk-container-id-2 input.sk-toggleable__control:checked~div.sk-toggleable__content {max-height: 200px;max-width: 100%;overflow: auto;}#sk-container-id-2 input.sk-toggleable__control:checked~label.sk-toggleable__label-arrow:before {content: \"▾\";}#sk-container-id-2 div.sk-estimator input.sk-toggleable__control:checked~label.sk-toggleable__label {background-color: #d4ebff;}#sk-container-id-2 div.sk-label input.sk-toggleable__control:checked~label.sk-toggleable__label {background-color: #d4ebff;}#sk-container-id-2 input.sk-hidden--visually {border: 0;clip: rect(1px 1px 1px 1px);clip: rect(1px, 1px, 1px, 1px);height: 1px;margin: -1px;overflow: hidden;padding: 0;position: absolute;width: 1px;}#sk-container-id-2 div.sk-estimator {font-family: monospace;background-color: #f0f8ff;border: 1px dotted black;border-radius: 0.25em;box-sizing: border-box;margin-bottom: 0.5em;}#sk-container-id-2 div.sk-estimator:hover {background-color: #d4ebff;}#sk-container-id-2 div.sk-parallel-item::after {content: \"\";width: 100%;border-bottom: 1px solid gray;flex-grow: 1;}#sk-container-id-2 div.sk-label:hover label.sk-toggleable__label {background-color: #d4ebff;}#sk-container-id-2 div.sk-serial::before {content: \"\";position: absolute;border-left: 1px solid gray;box-sizing: border-box;top: 0;bottom: 0;left: 50%;z-index: 0;}#sk-container-id-2 div.sk-serial {display: flex;flex-direction: column;align-items: center;background-color: white;padding-right: 0.2em;padding-left: 0.2em;position: relative;}#sk-container-id-2 div.sk-item {position: relative;z-index: 1;}#sk-container-id-2 div.sk-parallel {display: flex;align-items: stretch;justify-content: center;background-color: white;position: relative;}#sk-container-id-2 div.sk-item::before, #sk-container-id-2 div.sk-parallel-item::before {content: \"\";position: absolute;border-left: 1px solid gray;box-sizing: border-box;top: 0;bottom: 0;left: 50%;z-index: -1;}#sk-container-id-2 div.sk-parallel-item {display: flex;flex-direction: column;z-index: 1;position: relative;background-color: white;}#sk-container-id-2 div.sk-parallel-item:first-child::after {align-self: flex-end;width: 50%;}#sk-container-id-2 div.sk-parallel-item:last-child::after {align-self: flex-start;width: 50%;}#sk-container-id-2 div.sk-parallel-item:only-child::after {width: 0;}#sk-container-id-2 div.sk-dashed-wrapped {border: 1px dashed gray;margin: 0 0.4em 0.5em 0.4em;box-sizing: border-box;padding-bottom: 0.4em;background-color: white;}#sk-container-id-2 div.sk-label label {font-family: monospace;font-weight: bold;display: inline-block;line-height: 1.2em;}#sk-container-id-2 div.sk-label-container {text-align: center;}#sk-container-id-2 div.sk-container {/* jupyter's `normalize.less` sets `[hidden] { display: none; }` but bootstrap.min.css set `[hidden] { display: none !important; }` so we also need the `!important` here to be able to override the default hidden behavior on the sphinx rendered scikit-learn.org. See: https://github.com/scikit-learn/scikit-learn/issues/21755 */display: inline-block !important;position: relative;}#sk-container-id-2 div.sk-text-repr-fallback {display: none;}</style><div id=\"sk-container-id-2\" class=\"sk-top-container\"><div class=\"sk-text-repr-fallback\"><pre>LabelEncoder()</pre><b>In a Jupyter environment, please rerun this cell to show the HTML representation or trust the notebook. <br />On GitHub, the HTML representation is unable to render, please try loading this page with nbviewer.org.</b></div><div class=\"sk-container\" hidden><div class=\"sk-item\"><div class=\"sk-estimator sk-toggleable\"><input class=\"sk-toggleable__control sk-hidden--visually\" id=\"sk-estimator-id-5\" type=\"checkbox\" checked><label for=\"sk-estimator-id-5\" class=\"sk-toggleable__label sk-toggleable__label-arrow\">LabelEncoder</label><div class=\"sk-toggleable__content\"><pre>LabelEncoder()</pre></div></div></div></div></div>"
      ],
      "text/plain": [
       "LabelEncoder()"
      ]
     },
     "execution_count": 9,
     "metadata": {},
     "output_type": "execute_result"
    }
   ],
   "source": [
    "label_encoder"
   ]
  },
  {
   "cell_type": "code",
   "execution_count": 10,
   "metadata": {},
   "outputs": [],
   "source": [
    "X = preprocessor.transform(X)\n",
    "y = label_encoder.transform(y)"
   ]
  },
  {
   "cell_type": "code",
   "execution_count": 11,
   "metadata": {},
   "outputs": [
    {
     "data": {
      "text/plain": [
       "(565576, 20)"
      ]
     },
     "execution_count": 11,
     "metadata": {},
     "output_type": "execute_result"
    }
   ],
   "source": [
    "X.shape"
   ]
  },
  {
   "cell_type": "code",
   "execution_count": 12,
   "metadata": {},
   "outputs": [
    {
     "data": {
      "text/plain": [
       "Counter({0: 454265,\n",
       "         4: 46025,\n",
       "         10: 31761,\n",
       "         2: 25605,\n",
       "         3: 2059,\n",
       "         7: 1587,\n",
       "         11: 1180,\n",
       "         6: 1159,\n",
       "         5: 1100,\n",
       "         1: 391,\n",
       "         12: 301,\n",
       "         14: 130,\n",
       "         9: 7,\n",
       "         13: 4,\n",
       "         8: 2})"
      ]
     },
     "execution_count": 12,
     "metadata": {},
     "output_type": "execute_result"
    }
   ],
   "source": [
    "Counter(y)"
   ]
  },
  {
   "cell_type": "code",
   "execution_count": 13,
   "metadata": {},
   "outputs": [
    {
     "data": {
      "text/plain": [
       "Extractor(\n",
       "  (resnet): Net1D(\n",
       "    (first_conv): MyConv1dPadSame(\n",
       "      (conv): Conv1d(1, 20, kernel_size=(16,), stride=(2,))\n",
       "    )\n",
       "    (first_bn): BatchNorm1d(20, eps=1e-05, momentum=0.1, affine=True, track_running_stats=True)\n",
       "    (first_activation): Swish()\n",
       "    (stage_list): ModuleList(\n",
       "      (0): BasicStage(\n",
       "        (block_list): ModuleList(\n",
       "          (0): BasicBlock(\n",
       "            (bn1): BatchNorm1d(20, eps=1e-05, momentum=0.1, affine=True, track_running_stats=True)\n",
       "            (activation1): Swish()\n",
       "            (do1): Dropout(p=0.5, inplace=False)\n",
       "            (conv1): MyConv1dPadSame(\n",
       "              (conv): Conv1d(20, 64, kernel_size=(1,), stride=(1,))\n",
       "            )\n",
       "            (bn2): BatchNorm1d(64, eps=1e-05, momentum=0.1, affine=True, track_running_stats=True)\n",
       "            (activation2): Swish()\n",
       "            (do2): Dropout(p=0.5, inplace=False)\n",
       "            (conv2): MyConv1dPadSame(\n",
       "              (conv): Conv1d(64, 64, kernel_size=(16,), stride=(2,), groups=4)\n",
       "            )\n",
       "            (bn3): BatchNorm1d(64, eps=1e-05, momentum=0.1, affine=True, track_running_stats=True)\n",
       "            (activation3): Swish()\n",
       "            (do3): Dropout(p=0.5, inplace=False)\n",
       "            (conv3): MyConv1dPadSame(\n",
       "              (conv): Conv1d(64, 64, kernel_size=(1,), stride=(1,))\n",
       "            )\n",
       "            (se_fc1): Linear(in_features=64, out_features=32, bias=True)\n",
       "            (se_fc2): Linear(in_features=32, out_features=64, bias=True)\n",
       "            (se_activation): Swish()\n",
       "            (max_pool): MyMaxPool1dPadSame(\n",
       "              (max_pool): MaxPool1d(kernel_size=2, stride=2, padding=0, dilation=1, ceil_mode=False)\n",
       "            )\n",
       "          )\n",
       "          (1-2): 2 x BasicBlock(\n",
       "            (bn1): BatchNorm1d(64, eps=1e-05, momentum=0.1, affine=True, track_running_stats=True)\n",
       "            (activation1): Swish()\n",
       "            (do1): Dropout(p=0.5, inplace=False)\n",
       "            (conv1): MyConv1dPadSame(\n",
       "              (conv): Conv1d(64, 64, kernel_size=(1,), stride=(1,))\n",
       "            )\n",
       "            (bn2): BatchNorm1d(64, eps=1e-05, momentum=0.1, affine=True, track_running_stats=True)\n",
       "            (activation2): Swish()\n",
       "            (do2): Dropout(p=0.5, inplace=False)\n",
       "            (conv2): MyConv1dPadSame(\n",
       "              (conv): Conv1d(64, 64, kernel_size=(16,), stride=(1,), groups=4)\n",
       "            )\n",
       "            (bn3): BatchNorm1d(64, eps=1e-05, momentum=0.1, affine=True, track_running_stats=True)\n",
       "            (activation3): Swish()\n",
       "            (do3): Dropout(p=0.5, inplace=False)\n",
       "            (conv3): MyConv1dPadSame(\n",
       "              (conv): Conv1d(64, 64, kernel_size=(1,), stride=(1,))\n",
       "            )\n",
       "            (se_fc1): Linear(in_features=64, out_features=32, bias=True)\n",
       "            (se_fc2): Linear(in_features=32, out_features=64, bias=True)\n",
       "            (se_activation): Swish()\n",
       "          )\n",
       "        )\n",
       "      )\n",
       "      (1): BasicStage(\n",
       "        (block_list): ModuleList(\n",
       "          (0): BasicBlock(\n",
       "            (bn1): BatchNorm1d(64, eps=1e-05, momentum=0.1, affine=True, track_running_stats=True)\n",
       "            (activation1): Swish()\n",
       "            (do1): Dropout(p=0.5, inplace=False)\n",
       "            (conv1): MyConv1dPadSame(\n",
       "              (conv): Conv1d(64, 256, kernel_size=(1,), stride=(1,))\n",
       "            )\n",
       "            (bn2): BatchNorm1d(256, eps=1e-05, momentum=0.1, affine=True, track_running_stats=True)\n",
       "            (activation2): Swish()\n",
       "            (do2): Dropout(p=0.5, inplace=False)\n",
       "            (conv2): MyConv1dPadSame(\n",
       "              (conv): Conv1d(256, 256, kernel_size=(16,), stride=(2,), groups=16)\n",
       "            )\n",
       "            (bn3): BatchNorm1d(256, eps=1e-05, momentum=0.1, affine=True, track_running_stats=True)\n",
       "            (activation3): Swish()\n",
       "            (do3): Dropout(p=0.5, inplace=False)\n",
       "            (conv3): MyConv1dPadSame(\n",
       "              (conv): Conv1d(256, 256, kernel_size=(1,), stride=(1,))\n",
       "            )\n",
       "            (se_fc1): Linear(in_features=256, out_features=128, bias=True)\n",
       "            (se_fc2): Linear(in_features=128, out_features=256, bias=True)\n",
       "            (se_activation): Swish()\n",
       "            (max_pool): MyMaxPool1dPadSame(\n",
       "              (max_pool): MaxPool1d(kernel_size=2, stride=2, padding=0, dilation=1, ceil_mode=False)\n",
       "            )\n",
       "          )\n",
       "          (1-3): 3 x BasicBlock(\n",
       "            (bn1): BatchNorm1d(256, eps=1e-05, momentum=0.1, affine=True, track_running_stats=True)\n",
       "            (activation1): Swish()\n",
       "            (do1): Dropout(p=0.5, inplace=False)\n",
       "            (conv1): MyConv1dPadSame(\n",
       "              (conv): Conv1d(256, 256, kernel_size=(1,), stride=(1,))\n",
       "            )\n",
       "            (bn2): BatchNorm1d(256, eps=1e-05, momentum=0.1, affine=True, track_running_stats=True)\n",
       "            (activation2): Swish()\n",
       "            (do2): Dropout(p=0.5, inplace=False)\n",
       "            (conv2): MyConv1dPadSame(\n",
       "              (conv): Conv1d(256, 256, kernel_size=(16,), stride=(1,), groups=16)\n",
       "            )\n",
       "            (bn3): BatchNorm1d(256, eps=1e-05, momentum=0.1, affine=True, track_running_stats=True)\n",
       "            (activation3): Swish()\n",
       "            (do3): Dropout(p=0.5, inplace=False)\n",
       "            (conv3): MyConv1dPadSame(\n",
       "              (conv): Conv1d(256, 256, kernel_size=(1,), stride=(1,))\n",
       "            )\n",
       "            (se_fc1): Linear(in_features=256, out_features=128, bias=True)\n",
       "            (se_fc2): Linear(in_features=128, out_features=256, bias=True)\n",
       "            (se_activation): Swish()\n",
       "          )\n",
       "        )\n",
       "      )\n",
       "      (2): BasicStage(\n",
       "        (block_list): ModuleList(\n",
       "          (0): BasicBlock(\n",
       "            (bn1): BatchNorm1d(256, eps=1e-05, momentum=0.1, affine=True, track_running_stats=True)\n",
       "            (activation1): Swish()\n",
       "            (do1): Dropout(p=0.5, inplace=False)\n",
       "            (conv1): MyConv1dPadSame(\n",
       "              (conv): Conv1d(256, 256, kernel_size=(1,), stride=(1,))\n",
       "            )\n",
       "            (bn2): BatchNorm1d(256, eps=1e-05, momentum=0.1, affine=True, track_running_stats=True)\n",
       "            (activation2): Swish()\n",
       "            (do2): Dropout(p=0.5, inplace=False)\n",
       "            (conv2): MyConv1dPadSame(\n",
       "              (conv): Conv1d(256, 256, kernel_size=(16,), stride=(2,), groups=16)\n",
       "            )\n",
       "            (bn3): BatchNorm1d(256, eps=1e-05, momentum=0.1, affine=True, track_running_stats=True)\n",
       "            (activation3): Swish()\n",
       "            (do3): Dropout(p=0.5, inplace=False)\n",
       "            (conv3): MyConv1dPadSame(\n",
       "              (conv): Conv1d(256, 256, kernel_size=(1,), stride=(1,))\n",
       "            )\n",
       "            (se_fc1): Linear(in_features=256, out_features=128, bias=True)\n",
       "            (se_fc2): Linear(in_features=128, out_features=256, bias=True)\n",
       "            (se_activation): Swish()\n",
       "            (max_pool): MyMaxPool1dPadSame(\n",
       "              (max_pool): MaxPool1d(kernel_size=2, stride=2, padding=0, dilation=1, ceil_mode=False)\n",
       "            )\n",
       "          )\n",
       "          (1-5): 5 x BasicBlock(\n",
       "            (bn1): BatchNorm1d(256, eps=1e-05, momentum=0.1, affine=True, track_running_stats=True)\n",
       "            (activation1): Swish()\n",
       "            (do1): Dropout(p=0.5, inplace=False)\n",
       "            (conv1): MyConv1dPadSame(\n",
       "              (conv): Conv1d(256, 256, kernel_size=(1,), stride=(1,))\n",
       "            )\n",
       "            (bn2): BatchNorm1d(256, eps=1e-05, momentum=0.1, affine=True, track_running_stats=True)\n",
       "            (activation2): Swish()\n",
       "            (do2): Dropout(p=0.5, inplace=False)\n",
       "            (conv2): MyConv1dPadSame(\n",
       "              (conv): Conv1d(256, 256, kernel_size=(16,), stride=(1,), groups=16)\n",
       "            )\n",
       "            (bn3): BatchNorm1d(256, eps=1e-05, momentum=0.1, affine=True, track_running_stats=True)\n",
       "            (activation3): Swish()\n",
       "            (do3): Dropout(p=0.5, inplace=False)\n",
       "            (conv3): MyConv1dPadSame(\n",
       "              (conv): Conv1d(256, 256, kernel_size=(1,), stride=(1,))\n",
       "            )\n",
       "            (se_fc1): Linear(in_features=256, out_features=128, bias=True)\n",
       "            (se_fc2): Linear(in_features=128, out_features=256, bias=True)\n",
       "            (se_activation): Swish()\n",
       "          )\n",
       "        )\n",
       "      )\n",
       "      (3): BasicStage(\n",
       "        (block_list): ModuleList(\n",
       "          (0): BasicBlock(\n",
       "            (bn1): BatchNorm1d(256, eps=1e-05, momentum=0.1, affine=True, track_running_stats=True)\n",
       "            (activation1): Swish()\n",
       "            (do1): Dropout(p=0.5, inplace=False)\n",
       "            (conv1): MyConv1dPadSame(\n",
       "              (conv): Conv1d(256, 512, kernel_size=(1,), stride=(1,))\n",
       "            )\n",
       "            (bn2): BatchNorm1d(512, eps=1e-05, momentum=0.1, affine=True, track_running_stats=True)\n",
       "            (activation2): Swish()\n",
       "            (do2): Dropout(p=0.5, inplace=False)\n",
       "            (conv2): MyConv1dPadSame(\n",
       "              (conv): Conv1d(512, 512, kernel_size=(16,), stride=(2,), groups=32)\n",
       "            )\n",
       "            (bn3): BatchNorm1d(512, eps=1e-05, momentum=0.1, affine=True, track_running_stats=True)\n",
       "            (activation3): Swish()\n",
       "            (do3): Dropout(p=0.5, inplace=False)\n",
       "            (conv3): MyConv1dPadSame(\n",
       "              (conv): Conv1d(512, 512, kernel_size=(1,), stride=(1,))\n",
       "            )\n",
       "            (se_fc1): Linear(in_features=512, out_features=256, bias=True)\n",
       "            (se_fc2): Linear(in_features=256, out_features=512, bias=True)\n",
       "            (se_activation): Swish()\n",
       "            (max_pool): MyMaxPool1dPadSame(\n",
       "              (max_pool): MaxPool1d(kernel_size=2, stride=2, padding=0, dilation=1, ceil_mode=False)\n",
       "            )\n",
       "          )\n",
       "          (1-2): 2 x BasicBlock(\n",
       "            (bn1): BatchNorm1d(512, eps=1e-05, momentum=0.1, affine=True, track_running_stats=True)\n",
       "            (activation1): Swish()\n",
       "            (do1): Dropout(p=0.5, inplace=False)\n",
       "            (conv1): MyConv1dPadSame(\n",
       "              (conv): Conv1d(512, 512, kernel_size=(1,), stride=(1,))\n",
       "            )\n",
       "            (bn2): BatchNorm1d(512, eps=1e-05, momentum=0.1, affine=True, track_running_stats=True)\n",
       "            (activation2): Swish()\n",
       "            (do2): Dropout(p=0.5, inplace=False)\n",
       "            (conv2): MyConv1dPadSame(\n",
       "              (conv): Conv1d(512, 512, kernel_size=(16,), stride=(1,), groups=32)\n",
       "            )\n",
       "            (bn3): BatchNorm1d(512, eps=1e-05, momentum=0.1, affine=True, track_running_stats=True)\n",
       "            (activation3): Swish()\n",
       "            (do3): Dropout(p=0.5, inplace=False)\n",
       "            (conv3): MyConv1dPadSame(\n",
       "              (conv): Conv1d(512, 512, kernel_size=(1,), stride=(1,))\n",
       "            )\n",
       "            (se_fc1): Linear(in_features=512, out_features=256, bias=True)\n",
       "            (se_fc2): Linear(in_features=256, out_features=512, bias=True)\n",
       "            (se_activation): Swish()\n",
       "          )\n",
       "        )\n",
       "      )\n",
       "    )\n",
       "    (dense): Linear(in_features=512, out_features=34, bias=True)\n",
       "  )\n",
       ")"
      ]
     },
     "execution_count": 13,
     "metadata": {},
     "output_type": "execute_result"
    }
   ],
   "source": [
    "device = torch.device('cuda:0' if torch.cuda.is_available() else 'cpu')\n",
    "\n",
    "with open('./dist/resnet/extractor1d-170.pkl', 'rb') as f:\n",
    "    extractor = pickle.load(f)\n",
    "\n",
    "extractor.to(device)\n",
    "extractor.eval()"
   ]
  },
  {
   "cell_type": "code",
   "execution_count": 14,
   "metadata": {},
   "outputs": [
    {
     "data": {
      "text/plain": [
       "565576"
      ]
     },
     "execution_count": 14,
     "metadata": {},
     "output_type": "execute_result"
    }
   ],
   "source": [
    "X = np.expand_dims(X, axis=2).transpose((0, 2, 1))\n",
    "\n",
    "dataset = dataset.NumpyDataset(X, y)\n",
    "len(dataset)"
   ]
  },
  {
   "cell_type": "code",
   "execution_count": 15,
   "metadata": {},
   "outputs": [],
   "source": [
    "from torch.utils.data import DataLoader\n",
    "\n",
    "embeddings = []\n",
    "labels = []\n",
    "batch_size = 1024\n",
    "dataloader = DataLoader(dataset=dataset, batch_size=batch_size)\n",
    "\n",
    "for X, y in dataloader:\n",
    "    X = X.to(device)\n",
    "    X_embedding = extractor(X)\n",
    "    embeddings.append(X_embedding.cpu().detach().numpy())\n",
    "\n",
    "    labels.append(y)"
   ]
  },
  {
   "cell_type": "code",
   "execution_count": 16,
   "metadata": {},
   "outputs": [
    {
     "name": "stdout",
     "output_type": "stream",
     "text": [
      "(565576, 34)\n",
      "(565576,)\n"
     ]
    }
   ],
   "source": [
    "X_embedding = np.concatenate(embeddings, axis=0)\n",
    "y = np.concatenate(labels, axis=0)\n",
    "print(X_embedding.shape)\n",
    "print(y.shape)"
   ]
  },
  {
   "cell_type": "code",
   "execution_count": 17,
   "metadata": {},
   "outputs": [
    {
     "data": {
      "text/plain": [
       "[MLPClassifier(max_iter=1500),\n",
       " DecisionTreeClassifier(),\n",
       " GaussianNB(),\n",
       " LogisticRegression(),\n",
       " RandomForestClassifier(),\n",
       " KNeighborsClassifier(),\n",
       " KNeighborsClassifier(n_neighbors=10)]"
      ]
     },
     "execution_count": 17,
     "metadata": {},
     "output_type": "execute_result"
    }
   ],
   "source": [
    "from sklearn.neural_network import  MLPClassifier\n",
    "from sklearn.tree import DecisionTreeClassifier\n",
    "from sklearn.ensemble import RandomForestClassifier\n",
    "from sklearn.naive_bayes import GaussianNB\n",
    "from sklearn.neighbors import KNeighborsClassifier\n",
    "from sklearn.svm import SVC\n",
    "from sklearn.linear_model import LogisticRegression\n",
    "\n",
    "knn_list = [5, 10]\n",
    "\n",
    "estimators = [MLPClassifier(max_iter=1500), DecisionTreeClassifier(), GaussianNB(), LogisticRegression(), RandomForestClassifier()] \\\n",
    "    + [KNeighborsClassifier(n_neighbors=k) for k in knn_list]\n",
    "\n",
    "estimators"
   ]
  },
  {
   "cell_type": "code",
   "execution_count": 21,
   "metadata": {},
   "outputs": [],
   "source": [
    "from sklearn.model_selection import cross_validate, cross_val_predict\n",
    "from sklearn.metrics import make_scorer, f1_score, precision_score, recall_score, accuracy_score, confusion_matrix\n",
    "\n",
    "scoring = {\n",
    "    'f1_weighted': make_scorer(f1_score, average='weighted', zero_division=0),\n",
    "    'precision_weighted': make_scorer(precision_score, average='weighted', zero_division=0),\n",
    "    'recall_weighted': make_scorer(recall_score, average='weighted', zero_division=0),\n",
    "    'accuracy': make_scorer(accuracy_score),\n",
    "    'f1_macro': make_scorer(f1_score, average='macro', zero_division=0),\n",
    "    'precision_macro': make_scorer(precision_score, average='macro', zero_division=0),\n",
    "    'recall_macro': make_scorer(recall_score, average='macro', zero_division=0),\n",
    "}\n",
    "\n",
    "performance = {}\n",
    "\n",
    "# for model in estimators:\n",
    "#     results = cross_validate(model, X_embedding, y, scoring=scoring)\n",
    "#     performance[model.__repr__()] = results\n",
    "\n",
    "#     print(f\"finished evaluation on {model.__repr__()}\")"
   ]
  },
  {
   "cell_type": "code",
   "execution_count": 24,
   "metadata": {},
   "outputs": [
    {
     "name": "stderr",
     "output_type": "stream",
     "text": [
      "/home/chan/miniconda3/envs/csi5388/lib/python3.10/site-packages/sklearn/model_selection/_split.py:737: UserWarning: The least populated class in y has only 2 members, which is less than n_splits=5.\n",
      "  warnings.warn(\n"
     ]
    },
    {
     "data": {
      "text/plain": [
       "{'fit_time': array([166.42514586, 157.03714609, 136.26153898, 197.37146068,\n",
       "        171.93202519]),\n",
       " 'score_time': array([0.20193934, 0.19396353, 0.20012093, 0.18774819, 0.19407964]),\n",
       " 'test_f1_weighted': array([0.97883479, 0.97936683, 0.97634921, 0.98040365, 0.97574611]),\n",
       " 'test_precision_weighted': array([0.97931893, 0.97945804, 0.97653705, 0.98076832, 0.97654373]),\n",
       " 'test_recall_weighted': array([0.97948124, 0.97963135, 0.97705875, 0.98093091, 0.97628962]),\n",
       " 'test_accuracy': array([0.97948124, 0.97963135, 0.97705875, 0.98093091, 0.97628962]),\n",
       " 'test_f1_macro': array([0.58741459, 0.72630832, 0.63356629, 0.64073653, 0.63855176]),\n",
       " 'test_precision_macro': array([0.70551311, 0.76129843, 0.73359411, 0.73829295, 0.74399737]),\n",
       " 'test_recall_macro': array([0.5501699 , 0.71878893, 0.60628476, 0.61595616, 0.61176117])}"
      ]
     },
     "execution_count": 24,
     "metadata": {},
     "output_type": "execute_result"
    }
   ],
   "source": [
    "model = MLPClassifier(max_iter=1500)\n",
    "results = cross_validate(model, X_embedding, y, scoring=scoring, cv=5, n_jobs=-1)\n",
    "performance[model.__repr__()] = results\n",
    "results"
   ]
  },
  {
   "cell_type": "code",
   "execution_count": 25,
   "metadata": {},
   "outputs": [
    {
     "name": "stderr",
     "output_type": "stream",
     "text": [
      "/home/chan/miniconda3/envs/csi5388/lib/python3.10/site-packages/sklearn/model_selection/_split.py:737: UserWarning: The least populated class in y has only 2 members, which is less than n_splits=5.\n",
      "  warnings.warn(\n"
     ]
    },
    {
     "data": {
      "text/plain": [
       "{'fit_time': array([59.23611736, 59.32007384, 55.62628341, 51.6815443 , 67.35578918]),\n",
       " 'score_time': array([0.13991618, 0.14107871, 0.13596034, 0.13622999, 0.13545132]),\n",
       " 'test_f1_weighted': array([0.98738211, 0.98689009, 0.98709306, 0.98744561, 0.98648729]),\n",
       " 'test_precision_weighted': array([0.98743627, 0.98692753, 0.98711517, 0.98743651, 0.98654608]),\n",
       " 'test_recall_weighted': array([0.98734043, 0.98686293, 0.9870751 , 0.98745524, 0.98644742]),\n",
       " 'test_accuracy': array([0.98734043, 0.98686293, 0.9870751 , 0.98745524, 0.98644742]),\n",
       " 'test_f1_macro': array([0.69775054, 0.68601978, 0.73376079, 0.73712639, 0.73303053]),\n",
       " 'test_precision_macro': array([0.69477127, 0.68631164, 0.7330138 , 0.73611664, 0.73213589]),\n",
       " 'test_recall_macro': array([0.70146638, 0.68692004, 0.73463156, 0.7382074 , 0.73473118])}"
      ]
     },
     "execution_count": 25,
     "metadata": {},
     "output_type": "execute_result"
    }
   ],
   "source": [
    "model = DecisionTreeClassifier()\n",
    "results = cross_validate(model, X_embedding, y, scoring=scoring, cv=5, n_jobs=-1)\n",
    "performance[model.__repr__()] = results\n",
    "results"
   ]
  },
  {
   "cell_type": "code",
   "execution_count": 26,
   "metadata": {},
   "outputs": [
    {
     "name": "stderr",
     "output_type": "stream",
     "text": [
      "/home/chan/miniconda3/envs/csi5388/lib/python3.10/site-packages/sklearn/model_selection/_split.py:737: UserWarning: The least populated class in y has only 2 members, which is less than n_splits=5.\n",
      "  warnings.warn(\n"
     ]
    },
    {
     "data": {
      "text/plain": [
       "{'fit_time': array([0.28843355, 0.2874701 , 0.28731942, 0.2847755 , 0.2877965 ]),\n",
       " 'score_time': array([0.79663825, 0.77650261, 0.79313207, 0.78408289, 0.80303144]),\n",
       " 'test_f1_weighted': array([0.37457768, 0.37566932, 0.37461429, 0.37570854, 0.37430191]),\n",
       " 'test_precision_weighted': array([0.83005099, 0.83051978, 0.83036688, 0.83144327, 0.83133973]),\n",
       " 'test_recall_weighted': array([0.32760175, 0.32876276, 0.32866552, 0.32869204, 0.32845334]),\n",
       " 'test_accuracy': array([0.32760175, 0.32876276, 0.32866552, 0.32869204, 0.32845334]),\n",
       " 'test_f1_macro': array([0.19517622, 0.18621929, 0.20780963, 0.20854229, 0.20961254]),\n",
       " 'test_precision_macro': array([0.19142612, 0.18708565, 0.20489538, 0.20618553, 0.20473574]),\n",
       " 'test_recall_macro': array([0.56287797, 0.50044977, 0.53455748, 0.537485  , 0.53887541])}"
      ]
     },
     "execution_count": 26,
     "metadata": {},
     "output_type": "execute_result"
    }
   ],
   "source": [
    "model = GaussianNB()\n",
    "results = cross_validate(model, X_embedding, y, scoring=scoring, cv=5, n_jobs=-1)\n",
    "performance[model.__repr__()] = results\n",
    "results"
   ]
  },
  {
   "cell_type": "code",
   "execution_count": 27,
   "metadata": {},
   "outputs": [
    {
     "name": "stderr",
     "output_type": "stream",
     "text": [
      "/home/chan/miniconda3/envs/csi5388/lib/python3.10/site-packages/sklearn/model_selection/_split.py:737: UserWarning: The least populated class in y has only 2 members, which is less than n_splits=5.\n",
      "  warnings.warn(\n",
      "/home/chan/miniconda3/envs/csi5388/lib/python3.10/site-packages/sklearn/linear_model/_logistic.py:460: ConvergenceWarning: lbfgs failed to converge (status=1):\n",
      "STOP: TOTAL NO. of ITERATIONS REACHED LIMIT.\n",
      "\n",
      "Increase the number of iterations (max_iter) or scale the data as shown in:\n",
      "    https://scikit-learn.org/stable/modules/preprocessing.html\n",
      "Please also refer to the documentation for alternative solver options:\n",
      "    https://scikit-learn.org/stable/modules/linear_model.html#logistic-regression\n",
      "  n_iter_i = _check_optimize_result(\n",
      "/home/chan/miniconda3/envs/csi5388/lib/python3.10/site-packages/sklearn/linear_model/_logistic.py:460: ConvergenceWarning: lbfgs failed to converge (status=1):\n",
      "STOP: TOTAL NO. of ITERATIONS REACHED LIMIT.\n",
      "\n",
      "Increase the number of iterations (max_iter) or scale the data as shown in:\n",
      "    https://scikit-learn.org/stable/modules/preprocessing.html\n",
      "Please also refer to the documentation for alternative solver options:\n",
      "    https://scikit-learn.org/stable/modules/linear_model.html#logistic-regression\n",
      "  n_iter_i = _check_optimize_result(\n",
      "/home/chan/miniconda3/envs/csi5388/lib/python3.10/site-packages/sklearn/linear_model/_logistic.py:460: ConvergenceWarning: lbfgs failed to converge (status=1):\n",
      "STOP: TOTAL NO. of ITERATIONS REACHED LIMIT.\n",
      "\n",
      "Increase the number of iterations (max_iter) or scale the data as shown in:\n",
      "    https://scikit-learn.org/stable/modules/preprocessing.html\n",
      "Please also refer to the documentation for alternative solver options:\n",
      "    https://scikit-learn.org/stable/modules/linear_model.html#logistic-regression\n",
      "  n_iter_i = _check_optimize_result(\n",
      "/home/chan/miniconda3/envs/csi5388/lib/python3.10/site-packages/sklearn/linear_model/_logistic.py:460: ConvergenceWarning: lbfgs failed to converge (status=1):\n",
      "STOP: TOTAL NO. of ITERATIONS REACHED LIMIT.\n",
      "\n",
      "Increase the number of iterations (max_iter) or scale the data as shown in:\n",
      "    https://scikit-learn.org/stable/modules/preprocessing.html\n",
      "Please also refer to the documentation for alternative solver options:\n",
      "    https://scikit-learn.org/stable/modules/linear_model.html#logistic-regression\n",
      "  n_iter_i = _check_optimize_result(\n",
      "/home/chan/miniconda3/envs/csi5388/lib/python3.10/site-packages/sklearn/linear_model/_logistic.py:460: ConvergenceWarning: lbfgs failed to converge (status=1):\n",
      "STOP: TOTAL NO. of ITERATIONS REACHED LIMIT.\n",
      "\n",
      "Increase the number of iterations (max_iter) or scale the data as shown in:\n",
      "    https://scikit-learn.org/stable/modules/preprocessing.html\n",
      "Please also refer to the documentation for alternative solver options:\n",
      "    https://scikit-learn.org/stable/modules/linear_model.html#logistic-regression\n",
      "  n_iter_i = _check_optimize_result(\n"
     ]
    },
    {
     "data": {
      "text/plain": [
       "{'fit_time': array([21.58843017, 20.90731668, 21.16089344, 21.00897908, 20.91812921]),\n",
       " 'score_time': array([0.14626908, 0.16722083, 0.14620519, 0.14614367, 0.16546154]),\n",
       " 'test_f1_weighted': array([0.88479326, 0.88665244, 0.8875006 , 0.88645218, 0.8856178 ]),\n",
       " 'test_precision_weighted': array([0.88699302, 0.88719584, 0.88873644, 0.88695207, 0.88667799]),\n",
       " 'test_recall_weighted': array([0.89676085, 0.89721964, 0.89829819, 0.89778544, 0.89619414]),\n",
       " 'test_accuracy': array([0.89676085, 0.89721964, 0.89829819, 0.89778544, 0.89619414]),\n",
       " 'test_f1_macro': array([0.27331843, 0.30776314, 0.29689274, 0.29522812, 0.3098183 ]),\n",
       " 'test_precision_macro': array([0.37646876, 0.40727586, 0.40912155, 0.35962943, 0.42569776]),\n",
       " 'test_recall_macro': array([0.2338843 , 0.26497161, 0.2542205 , 0.25733392, 0.26607499])}"
      ]
     },
     "execution_count": 27,
     "metadata": {},
     "output_type": "execute_result"
    }
   ],
   "source": [
    "model = LogisticRegression()\n",
    "results = cross_validate(model, X_embedding, y, scoring=scoring, cv=5, n_jobs=-1)\n",
    "performance[model.__repr__()] = results\n",
    "results"
   ]
  },
  {
   "cell_type": "code",
   "execution_count": 28,
   "metadata": {},
   "outputs": [
    {
     "name": "stderr",
     "output_type": "stream",
     "text": [
      "/home/chan/miniconda3/envs/csi5388/lib/python3.10/site-packages/sklearn/model_selection/_split.py:737: UserWarning: The least populated class in y has only 2 members, which is less than n_splits=5.\n",
      "  warnings.warn(\n"
     ]
    },
    {
     "data": {
      "text/plain": [
       "{'fit_time': array([371.1968255 , 361.92434216, 375.25205827, 361.18098545,\n",
       "        372.52428627]),\n",
       " 'score_time': array([1.435673  , 1.53056431, 1.40030289, 1.4600637 , 1.43673682]),\n",
       " 'test_f1_weighted': array([0.98942371, 0.98906899, 0.98888174, 0.9890501 , 0.98835721]),\n",
       " 'test_precision_weighted': array([0.98952668, 0.98914059, 0.98893951, 0.989118  , 0.98845755]),\n",
       " 'test_recall_weighted': array([0.9894091 , 0.98905539, 0.98891394, 0.9890377 , 0.98836582]),\n",
       " 'test_accuracy': array([0.9894091 , 0.98905539, 0.98891394, 0.9890377 , 0.98836582]),\n",
       " 'test_f1_macro': array([0.77304196, 0.82784117, 0.74650134, 0.75438048, 0.73143057]),\n",
       " 'test_precision_macro': array([0.79017984, 0.84244688, 0.76774687, 0.76683713, 0.74962728]),\n",
       " 'test_recall_macro': array([0.76140863, 0.81733849, 0.7331253 , 0.7455819 , 0.72050299])}"
      ]
     },
     "execution_count": 28,
     "metadata": {},
     "output_type": "execute_result"
    }
   ],
   "source": [
    "model = RandomForestClassifier()\n",
    "results = cross_validate(model, X_embedding, y, scoring=scoring, cv=5, n_jobs=-1)\n",
    "performance[model.__repr__()] = results\n",
    "results"
   ]
  },
  {
   "cell_type": "code",
   "execution_count": 29,
   "metadata": {},
   "outputs": [
    {
     "name": "stderr",
     "output_type": "stream",
     "text": [
      "/home/chan/miniconda3/envs/csi5388/lib/python3.10/site-packages/sklearn/model_selection/_split.py:737: UserWarning: The least populated class in y has only 2 members, which is less than n_splits=5.\n",
      "  warnings.warn(\n"
     ]
    },
    {
     "data": {
      "text/plain": [
       "{'fit_time': array([0.06561232, 0.087497  , 0.07546878, 0.08045745, 0.06833076]),\n",
       " 'score_time': array([230.21682787, 230.31205821, 230.59812593, 230.83106637,\n",
       "        230.46116471]),\n",
       " 'test_f1_weighted': array([0.98729713, 0.98689041, 0.98704019, 0.98735877, 0.98628104]),\n",
       " 'test_precision_weighted': array([0.98737504, 0.98693816, 0.98703637, 0.98736193, 0.98635942]),\n",
       " 'test_recall_weighted': array([0.98736695, 0.98693365, 0.98713698, 0.98741104, 0.98633249]),\n",
       " 'test_accuracy': array([0.98736695, 0.98693365, 0.98713698, 0.98741104, 0.98633249]),\n",
       " 'test_f1_macro': array([0.68386304, 0.73272743, 0.71212853, 0.71947947, 0.71283132]),\n",
       " 'test_precision_macro': array([0.71963431, 0.76187522, 0.73350771, 0.73312319, 0.73921754]),\n",
       " 'test_recall_macro': array([0.66732386, 0.71698418, 0.69955436, 0.71138847, 0.70166256])}"
      ]
     },
     "execution_count": 29,
     "metadata": {},
     "output_type": "execute_result"
    }
   ],
   "source": [
    "model = KNeighborsClassifier(n_neighbors=5)\n",
    "results = cross_validate(model, X_embedding, y, scoring=scoring, cv=5, n_jobs=-1)\n",
    "performance[model.__repr__()] = results\n",
    "results"
   ]
  },
  {
   "cell_type": "code",
   "execution_count": 30,
   "metadata": {},
   "outputs": [],
   "source": [
    "resnet_performance = performance"
   ]
  },
  {
   "cell_type": "code",
   "execution_count": 31,
   "metadata": {},
   "outputs": [
    {
     "data": {
      "text/plain": [
       "ExtractorMLP(\n",
       "  (conv1d): MyConv1dPadSame(\n",
       "    (conv): Conv1d(1, 1, kernel_size=(1,), stride=(1,))\n",
       "  )\n",
       "  (linear_in): Linear(in_features=20, out_features=65, bias=True)\n",
       "  (backbone): Sequential(\n",
       "    (linear-0): Linear(in_features=65, out_features=65, bias=True)\n",
       "    (act-0): ReLU()\n",
       "  )\n",
       "  (linear_out): Linear(in_features=65, out_features=39, bias=True)\n",
       ")"
      ]
     },
     "execution_count": 31,
     "metadata": {},
     "output_type": "execute_result"
    }
   ],
   "source": [
    "with open('./dist/mlp/extractor1d-final.pkl', 'rb') as f:\n",
    "    extractor = pickle.load(f)\n",
    "\n",
    "extractor.to(device)\n",
    "extractor.eval()"
   ]
  },
  {
   "cell_type": "markdown",
   "metadata": {},
   "source": [
    "## Eval of MLP feature extractor"
   ]
  },
  {
   "cell_type": "code",
   "execution_count": 32,
   "metadata": {},
   "outputs": [],
   "source": [
    "embeddings = []\n",
    "labels = []\n",
    "batch_size = 1024\n",
    "dataloader = DataLoader(dataset=dataset, batch_size=batch_size)\n",
    "\n",
    "for X, y in dataloader:\n",
    "    X = X.to(device)\n",
    "    X_embedding = extractor(X)\n",
    "    embeddings.append(X_embedding.cpu().detach().numpy())\n",
    "\n",
    "    labels.append(y)"
   ]
  },
  {
   "cell_type": "code",
   "execution_count": 33,
   "metadata": {},
   "outputs": [
    {
     "name": "stdout",
     "output_type": "stream",
     "text": [
      "(565576, 39)\n",
      "(565576,)\n"
     ]
    }
   ],
   "source": [
    "X_embedding = np.concatenate(embeddings, axis=0)\n",
    "y = np.concatenate(labels, axis=0)\n",
    "print(X_embedding.shape)\n",
    "print(y.shape)"
   ]
  },
  {
   "cell_type": "code",
   "execution_count": 34,
   "metadata": {},
   "outputs": [],
   "source": [
    "performance = {}"
   ]
  },
  {
   "cell_type": "code",
   "execution_count": 35,
   "metadata": {},
   "outputs": [
    {
     "name": "stderr",
     "output_type": "stream",
     "text": [
      "/home/chan/miniconda3/envs/csi5388/lib/python3.10/site-packages/sklearn/model_selection/_split.py:737: UserWarning: The least populated class in y has only 2 members, which is less than n_splits=5.\n",
      "  warnings.warn(\n"
     ]
    },
    {
     "data": {
      "text/plain": [
       "{'fit_time': array([173.43660378, 250.37338257, 204.78393364, 230.25995612,\n",
       "        218.28875375]),\n",
       " 'score_time': array([0.19567418, 0.1888206 , 0.18545556, 0.19332814, 0.1881671 ]),\n",
       " 'test_f1_weighted': array([0.97294301, 0.97311998, 0.96981871, 0.96993273, 0.97171521]),\n",
       " 'test_precision_weighted': array([0.97298603, 0.97394676, 0.97038282, 0.97007345, 0.97211775]),\n",
       " 'test_recall_weighted': array([0.97346971, 0.97329267, 0.97049905, 0.97052557, 0.97235557]),\n",
       " 'test_accuracy': array([0.97346971, 0.97329267, 0.97049905, 0.97052557, 0.97235557]),\n",
       " 'test_f1_macro': array([0.59529719, 0.70798253, 0.63686329, 0.63913642, 0.63539577]),\n",
       " 'test_precision_macro': array([0.6353439 , 0.79069836, 0.72898806, 0.7227021 , 0.74871888]),\n",
       " 'test_recall_macro': array([0.57164786, 0.68844148, 0.62080139, 0.61491127, 0.61107615])}"
      ]
     },
     "execution_count": 35,
     "metadata": {},
     "output_type": "execute_result"
    }
   ],
   "source": [
    "model = MLPClassifier(max_iter=1500)\n",
    "results = cross_validate(model, X_embedding, y, scoring=scoring, cv=5, n_jobs=-1)\n",
    "performance[model.__repr__()] = results\n",
    "results"
   ]
  },
  {
   "cell_type": "code",
   "execution_count": 36,
   "metadata": {},
   "outputs": [
    {
     "name": "stderr",
     "output_type": "stream",
     "text": [
      "/home/chan/miniconda3/envs/csi5388/lib/python3.10/site-packages/sklearn/model_selection/_split.py:737: UserWarning: The least populated class in y has only 2 members, which is less than n_splits=5.\n",
      "  warnings.warn(\n"
     ]
    },
    {
     "data": {
      "text/plain": [
       "{'fit_time': array([59.69146943, 60.86335802, 60.53958392, 58.92786765, 58.45958686]),\n",
       " 'score_time': array([0.15050602, 0.14560103, 0.13920021, 0.14548159, 0.14313459]),\n",
       " 'test_f1_weighted': array([0.98541622, 0.98460092, 0.98455867, 0.98501738, 0.98434932]),\n",
       " 'test_precision_weighted': array([0.98543979, 0.98466417, 0.98461457, 0.98504498, 0.98441759]),\n",
       " 'test_recall_weighted': array([0.98540436, 0.9845467 , 0.98452018, 0.98499757, 0.98429916]),\n",
       " 'test_accuracy': array([0.98540436, 0.9845467 , 0.98452018, 0.98499757, 0.98429916]),\n",
       " 'test_f1_macro': array([0.68748369, 0.67738097, 0.75886651, 0.72737169, 0.71750545]),\n",
       " 'test_precision_macro': array([0.68818464, 0.6715667 , 0.7393209 , 0.72678312, 0.71412234]),\n",
       " 'test_recall_macro': array([0.68729999, 0.68397813, 0.80296057, 0.72814764, 0.72106488])}"
      ]
     },
     "execution_count": 36,
     "metadata": {},
     "output_type": "execute_result"
    }
   ],
   "source": [
    "model = DecisionTreeClassifier()\n",
    "results = cross_validate(model, X_embedding, y, scoring=scoring, cv=5, n_jobs=-1)\n",
    "performance[model.__repr__()] = results\n",
    "results"
   ]
  },
  {
   "cell_type": "code",
   "execution_count": 37,
   "metadata": {},
   "outputs": [
    {
     "name": "stderr",
     "output_type": "stream",
     "text": [
      "/home/chan/miniconda3/envs/csi5388/lib/python3.10/site-packages/sklearn/model_selection/_split.py:737: UserWarning: The least populated class in y has only 2 members, which is less than n_splits=5.\n",
      "  warnings.warn(\n"
     ]
    },
    {
     "data": {
      "text/plain": [
       "{'fit_time': array([0.36845875, 0.33458734, 0.33143544, 0.33512092, 0.35239267]),\n",
       " 'score_time': array([1.04530835, 1.04858422, 1.04656935, 1.05090714, 1.04216456]),\n",
       " 'test_f1_weighted': array([0.27123848, 0.27369736, 0.26685644, 0.26905476, 0.26686778]),\n",
       " 'test_precision_weighted': array([0.70860048, 0.70726864, 0.71122055, 0.70675038, 0.71329233]),\n",
       " 'test_recall_weighted': array([0.22269175, 0.225284  , 0.22033329, 0.22156213, 0.22028909]),\n",
       " 'test_accuracy': array([0.22269175, 0.225284  , 0.22033329, 0.22156213, 0.22028909]),\n",
       " 'test_f1_macro': array([0.09684734, 0.10362612, 0.1046864 , 0.10583196, 0.10464445]),\n",
       " 'test_precision_macro': array([0.12570968, 0.12876713, 0.13713622, 0.13513139, 0.1352716 ]),\n",
       " 'test_recall_macro': array([0.38873486, 0.38953417, 0.34733323, 0.41517073, 0.3733317 ])}"
      ]
     },
     "execution_count": 37,
     "metadata": {},
     "output_type": "execute_result"
    }
   ],
   "source": [
    "model = GaussianNB()\n",
    "results = cross_validate(model, X_embedding, y, scoring=scoring, cv=5, n_jobs=-1)\n",
    "performance[model.__repr__()] = results\n",
    "results"
   ]
  },
  {
   "cell_type": "code",
   "execution_count": 38,
   "metadata": {},
   "outputs": [
    {
     "name": "stderr",
     "output_type": "stream",
     "text": [
      "/home/chan/miniconda3/envs/csi5388/lib/python3.10/site-packages/sklearn/model_selection/_split.py:737: UserWarning: The least populated class in y has only 2 members, which is less than n_splits=5.\n",
      "  warnings.warn(\n",
      "/home/chan/miniconda3/envs/csi5388/lib/python3.10/site-packages/sklearn/linear_model/_logistic.py:460: ConvergenceWarning: lbfgs failed to converge (status=1):\n",
      "STOP: TOTAL NO. of ITERATIONS REACHED LIMIT.\n",
      "\n",
      "Increase the number of iterations (max_iter) or scale the data as shown in:\n",
      "    https://scikit-learn.org/stable/modules/preprocessing.html\n",
      "Please also refer to the documentation for alternative solver options:\n",
      "    https://scikit-learn.org/stable/modules/linear_model.html#logistic-regression\n",
      "  n_iter_i = _check_optimize_result(\n",
      "/home/chan/miniconda3/envs/csi5388/lib/python3.10/site-packages/sklearn/linear_model/_logistic.py:460: ConvergenceWarning: lbfgs failed to converge (status=1):\n",
      "STOP: TOTAL NO. of ITERATIONS REACHED LIMIT.\n",
      "\n",
      "Increase the number of iterations (max_iter) or scale the data as shown in:\n",
      "    https://scikit-learn.org/stable/modules/preprocessing.html\n",
      "Please also refer to the documentation for alternative solver options:\n",
      "    https://scikit-learn.org/stable/modules/linear_model.html#logistic-regression\n",
      "  n_iter_i = _check_optimize_result(\n",
      "/home/chan/miniconda3/envs/csi5388/lib/python3.10/site-packages/sklearn/linear_model/_logistic.py:460: ConvergenceWarning: lbfgs failed to converge (status=1):\n",
      "STOP: TOTAL NO. of ITERATIONS REACHED LIMIT.\n",
      "\n",
      "Increase the number of iterations (max_iter) or scale the data as shown in:\n",
      "    https://scikit-learn.org/stable/modules/preprocessing.html\n",
      "Please also refer to the documentation for alternative solver options:\n",
      "    https://scikit-learn.org/stable/modules/linear_model.html#logistic-regression\n",
      "  n_iter_i = _check_optimize_result(\n",
      "/home/chan/miniconda3/envs/csi5388/lib/python3.10/site-packages/sklearn/linear_model/_logistic.py:460: ConvergenceWarning: lbfgs failed to converge (status=1):\n",
      "STOP: TOTAL NO. of ITERATIONS REACHED LIMIT.\n",
      "\n",
      "Increase the number of iterations (max_iter) or scale the data as shown in:\n",
      "    https://scikit-learn.org/stable/modules/preprocessing.html\n",
      "Please also refer to the documentation for alternative solver options:\n",
      "    https://scikit-learn.org/stable/modules/linear_model.html#logistic-regression\n",
      "  n_iter_i = _check_optimize_result(\n",
      "/home/chan/miniconda3/envs/csi5388/lib/python3.10/site-packages/sklearn/linear_model/_logistic.py:460: ConvergenceWarning: lbfgs failed to converge (status=1):\n",
      "STOP: TOTAL NO. of ITERATIONS REACHED LIMIT.\n",
      "\n",
      "Increase the number of iterations (max_iter) or scale the data as shown in:\n",
      "    https://scikit-learn.org/stable/modules/preprocessing.html\n",
      "Please also refer to the documentation for alternative solver options:\n",
      "    https://scikit-learn.org/stable/modules/linear_model.html#logistic-regression\n",
      "  n_iter_i = _check_optimize_result(\n"
     ]
    },
    {
     "data": {
      "text/plain": [
       "{'fit_time': array([23.25376678, 22.78696346, 22.86691022, 22.31853104, 22.75242496]),\n",
       " 'score_time': array([0.12863803, 0.14065766, 0.13071847, 0.15730619, 0.13449574]),\n",
       " 'test_f1_weighted': array([0.75310883, 0.7501117 , 0.75470249, 0.75394247, 0.7503404 ]),\n",
       " 'test_precision_weighted': array([0.72488134, 0.72033803, 0.72986602, 0.72696844, 0.72120301]),\n",
       " 'test_recall_weighted': array([0.81034513, 0.80650665, 0.81311939, 0.81266852, 0.80760288]),\n",
       " 'test_accuracy': array([0.81034513, 0.80650665, 0.81311939, 0.81266852, 0.80760288]),\n",
       " 'test_f1_macro': array([0.1272218 , 0.11813455, 0.1252431 , 0.13029233, 0.12418836]),\n",
       " 'test_precision_macro': array([0.22793583, 0.22518488, 0.25419168, 0.25952885, 0.24773003]),\n",
       " 'test_recall_macro': array([0.11167787, 0.10788488, 0.11161699, 0.11493427, 0.11105216])}"
      ]
     },
     "execution_count": 38,
     "metadata": {},
     "output_type": "execute_result"
    }
   ],
   "source": [
    "model = LogisticRegression()\n",
    "results = cross_validate(model, X_embedding, y, scoring=scoring, cv=5, n_jobs=-1)\n",
    "performance[model.__repr__()] = results\n",
    "results"
   ]
  },
  {
   "cell_type": "code",
   "execution_count": 39,
   "metadata": {},
   "outputs": [
    {
     "name": "stderr",
     "output_type": "stream",
     "text": [
      "/home/chan/miniconda3/envs/csi5388/lib/python3.10/site-packages/sklearn/model_selection/_split.py:737: UserWarning: The least populated class in y has only 2 members, which is less than n_splits=5.\n",
      "  warnings.warn(\n"
     ]
    },
    {
     "data": {
      "text/plain": [
       "{'fit_time': array([449.3694284 , 452.0125289 , 458.23820972, 451.32117128,\n",
       "        456.1089251 ]),\n",
       " 'score_time': array([1.6756351 , 1.61664271, 1.65439057, 1.60502362, 1.61988711]),\n",
       " 'test_f1_weighted': array([0.98787431, 0.98738314, 0.98781638, 0.9879079 , 0.98693816]),\n",
       " 'test_precision_weighted': array([0.98797071, 0.98745838, 0.98786133, 0.9879532 , 0.9870056 ]),\n",
       " 'test_recall_weighted': array([0.9878797 , 0.98738452, 0.98785307, 0.98792379, 0.98694249]),\n",
       " 'test_accuracy': array([0.9878797 , 0.98738452, 0.98785307, 0.98792379, 0.98694249]),\n",
       " 'test_f1_macro': array([0.69964425, 0.74917297, 0.74480161, 0.75056617, 0.7345489 ]),\n",
       " 'test_precision_macro': array([0.72013778, 0.76558458, 0.76315061, 0.76867173, 0.74910663]),\n",
       " 'test_recall_macro': array([0.6855506 , 0.73788132, 0.73343956, 0.73678061, 0.72398668])}"
      ]
     },
     "execution_count": 39,
     "metadata": {},
     "output_type": "execute_result"
    }
   ],
   "source": [
    "model = RandomForestClassifier()\n",
    "results = cross_validate(model, X_embedding, y, scoring=scoring, cv=5, n_jobs=-1)\n",
    "performance[model.__repr__()] = results\n",
    "results"
   ]
  },
  {
   "cell_type": "code",
   "execution_count": 40,
   "metadata": {},
   "outputs": [
    {
     "name": "stderr",
     "output_type": "stream",
     "text": [
      "/home/chan/miniconda3/envs/csi5388/lib/python3.10/site-packages/sklearn/model_selection/_split.py:737: UserWarning: The least populated class in y has only 2 members, which is less than n_splits=5.\n",
      "  warnings.warn(\n"
     ]
    },
    {
     "data": {
      "text/plain": [
       "{'fit_time': array([0.05596185, 0.09860778, 0.09392333, 0.08121467, 0.07886219]),\n",
       " 'score_time': array([244.57812047, 244.20218039, 244.36461544, 243.87439919,\n",
       "        244.22715616]),\n",
       " 'test_f1_weighted': array([0.98289896, 0.98208473, 0.98268914, 0.98295472, 0.98150413]),\n",
       " 'test_precision_weighted': array([0.98305189, 0.98220479, 0.9827039 , 0.98294762, 0.9815571 ]),\n",
       " 'test_recall_weighted': array([0.98298207, 0.98221279, 0.98285815, 0.98306149, 0.98165584]),\n",
       " 'test_accuracy': array([0.98298207, 0.98221279, 0.98285815, 0.98306149, 0.98165584]),\n",
       " 'test_f1_macro': array([0.66302971, 0.69745916, 0.68955249, 0.69621496, 0.68163318]),\n",
       " 'test_precision_macro': array([0.70975693, 0.74811792, 0.71863573, 0.71271544, 0.70868597]),\n",
       " 'test_recall_macro': array([0.64664276, 0.6807488 , 0.67791724, 0.68592188, 0.67087058])}"
      ]
     },
     "execution_count": 40,
     "metadata": {},
     "output_type": "execute_result"
    }
   ],
   "source": [
    "model = KNeighborsClassifier(n_neighbors=5)\n",
    "results = cross_validate(model, X_embedding, y, scoring=scoring, cv=5, n_jobs=-1)\n",
    "performance[model.__repr__()] = results\n",
    "results"
   ]
  },
  {
   "cell_type": "code",
   "execution_count": 41,
   "metadata": {},
   "outputs": [],
   "source": [
    "mlp_performance = performance"
   ]
  }
 ],
 "metadata": {
  "kernelspec": {
   "display_name": "csi5388",
   "language": "python",
   "name": "python3"
  },
  "language_info": {
   "codemirror_mode": {
    "name": "ipython",
    "version": 3
   },
   "file_extension": ".py",
   "mimetype": "text/x-python",
   "name": "python",
   "nbconvert_exporter": "python",
   "pygments_lexer": "ipython3",
   "version": "3.10.13"
  }
 },
 "nbformat": 4,
 "nbformat_minor": 2
}
