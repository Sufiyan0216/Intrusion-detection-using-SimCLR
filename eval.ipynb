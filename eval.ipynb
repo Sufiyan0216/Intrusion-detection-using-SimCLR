{
 "cells": [
  {
   "cell_type": "code",
   "execution_count": 1,
   "metadata": {},
   "outputs": [],
   "source": [
    "import gc\n",
    "import os\n",
    "import numpy as np\n",
    "import pandas as pd\n",
    "import sklearn\n",
    "import matplotlib.pyplot as plt\n",
    "import seaborn as sns\n",
    "import plotly.express as px\n",
    "import pickle\n",
    "from sklearn.utils import resample\n",
    "from collections import Counter\n",
    "import math\n",
    "from sklearn.model_selection import train_test_split\n",
    "import helper\n",
    "import dataset\n",
    "import torch\n",
    "import torch.nn as nn\n",
    "from resnet1d.net1d import Net1D"
   ]
  },
  {
   "cell_type": "code",
   "execution_count": 2,
   "metadata": {},
   "outputs": [
    {
     "data": {
      "text/plain": [
       "(2830743, 79)"
      ]
     },
     "execution_count": 2,
     "metadata": {},
     "output_type": "execute_result"
    }
   ],
   "source": [
    "data_files = [name for name in os.listdir('./data')]\n",
    "\n",
    "dfs = []\n",
    "\n",
    "for i in range(len(data_files)):\n",
    "    fname = './data/' + data_files[i]\n",
    "    df = pd.read_csv(fname)\n",
    "    # df.columns = [x.strip().lstrip() for x in df.columns]\n",
    "\n",
    "    dfs.append(df)\n",
    "\n",
    "df = pd.concat(dfs, axis=0, ignore_index=True)\n",
    "\n",
    "df.shape"
   ]
  },
  {
   "cell_type": "code",
   "execution_count": 3,
   "metadata": {},
   "outputs": [
    {
     "data": {
      "text/plain": [
       "(2830743, 79)"
      ]
     },
     "execution_count": 3,
     "metadata": {},
     "output_type": "execute_result"
    }
   ],
   "source": [
    "# Remove spaces in the front and the end of the column names for better human reading\n",
    "df.columns = [x.lstrip().strip().replace('�', '-') for x in df.columns]\n",
    "df.shape"
   ]
  },
  {
   "cell_type": "code",
   "execution_count": 4,
   "metadata": {},
   "outputs": [
    {
     "data": {
      "text/plain": [
       "(2827876, 79)"
      ]
     },
     "execution_count": 4,
     "metadata": {},
     "output_type": "execute_result"
    }
   ],
   "source": [
    "# replace inf values to nan\n",
    "df.replace([np.inf, -np.inf], np.nan, inplace=True)\n",
    "df.dropna(inplace=True)\n",
    "df.shape"
   ]
  },
  {
   "cell_type": "code",
   "execution_count": 5,
   "metadata": {},
   "outputs": [],
   "source": [
    "df_train, df_val = train_test_split(df, stratify=df['Label'], test_size=0.2, random_state=42)"
   ]
  },
  {
   "cell_type": "code",
   "execution_count": 6,
   "metadata": {},
   "outputs": [],
   "source": [
    "X = df_val.drop(['Label'], axis=1)\n",
    "y = df_val['Label']"
   ]
  },
  {
   "cell_type": "code",
   "execution_count": 7,
   "metadata": {},
   "outputs": [],
   "source": [
    "with open('./dist/labelencoder-resnet.pkl', 'rb') as f:\n",
    "    label_encoder = pickle.load(f)\n",
    "\n",
    "with open('./dist/preprocessor-resnet.pkl', 'rb') as f:\n",
    "    preprocessor = pickle.load(f)"
   ]
  },
  {
   "cell_type": "code",
   "execution_count": 8,
   "metadata": {},
   "outputs": [
    {
     "data": {
      "text/html": [
       "<style>#sk-container-id-1 {color: black;}#sk-container-id-1 pre{padding: 0;}#sk-container-id-1 div.sk-toggleable {background-color: white;}#sk-container-id-1 label.sk-toggleable__label {cursor: pointer;display: block;width: 100%;margin-bottom: 0;padding: 0.3em;box-sizing: border-box;text-align: center;}#sk-container-id-1 label.sk-toggleable__label-arrow:before {content: \"▸\";float: left;margin-right: 0.25em;color: #696969;}#sk-container-id-1 label.sk-toggleable__label-arrow:hover:before {color: black;}#sk-container-id-1 div.sk-estimator:hover label.sk-toggleable__label-arrow:before {color: black;}#sk-container-id-1 div.sk-toggleable__content {max-height: 0;max-width: 0;overflow: hidden;text-align: left;background-color: #f0f8ff;}#sk-container-id-1 div.sk-toggleable__content pre {margin: 0.2em;color: black;border-radius: 0.25em;background-color: #f0f8ff;}#sk-container-id-1 input.sk-toggleable__control:checked~div.sk-toggleable__content {max-height: 200px;max-width: 100%;overflow: auto;}#sk-container-id-1 input.sk-toggleable__control:checked~label.sk-toggleable__label-arrow:before {content: \"▾\";}#sk-container-id-1 div.sk-estimator input.sk-toggleable__control:checked~label.sk-toggleable__label {background-color: #d4ebff;}#sk-container-id-1 div.sk-label input.sk-toggleable__control:checked~label.sk-toggleable__label {background-color: #d4ebff;}#sk-container-id-1 input.sk-hidden--visually {border: 0;clip: rect(1px 1px 1px 1px);clip: rect(1px, 1px, 1px, 1px);height: 1px;margin: -1px;overflow: hidden;padding: 0;position: absolute;width: 1px;}#sk-container-id-1 div.sk-estimator {font-family: monospace;background-color: #f0f8ff;border: 1px dotted black;border-radius: 0.25em;box-sizing: border-box;margin-bottom: 0.5em;}#sk-container-id-1 div.sk-estimator:hover {background-color: #d4ebff;}#sk-container-id-1 div.sk-parallel-item::after {content: \"\";width: 100%;border-bottom: 1px solid gray;flex-grow: 1;}#sk-container-id-1 div.sk-label:hover label.sk-toggleable__label {background-color: #d4ebff;}#sk-container-id-1 div.sk-serial::before {content: \"\";position: absolute;border-left: 1px solid gray;box-sizing: border-box;top: 0;bottom: 0;left: 50%;z-index: 0;}#sk-container-id-1 div.sk-serial {display: flex;flex-direction: column;align-items: center;background-color: white;padding-right: 0.2em;padding-left: 0.2em;position: relative;}#sk-container-id-1 div.sk-item {position: relative;z-index: 1;}#sk-container-id-1 div.sk-parallel {display: flex;align-items: stretch;justify-content: center;background-color: white;position: relative;}#sk-container-id-1 div.sk-item::before, #sk-container-id-1 div.sk-parallel-item::before {content: \"\";position: absolute;border-left: 1px solid gray;box-sizing: border-box;top: 0;bottom: 0;left: 50%;z-index: -1;}#sk-container-id-1 div.sk-parallel-item {display: flex;flex-direction: column;z-index: 1;position: relative;background-color: white;}#sk-container-id-1 div.sk-parallel-item:first-child::after {align-self: flex-end;width: 50%;}#sk-container-id-1 div.sk-parallel-item:last-child::after {align-self: flex-start;width: 50%;}#sk-container-id-1 div.sk-parallel-item:only-child::after {width: 0;}#sk-container-id-1 div.sk-dashed-wrapped {border: 1px dashed gray;margin: 0 0.4em 0.5em 0.4em;box-sizing: border-box;padding-bottom: 0.4em;background-color: white;}#sk-container-id-1 div.sk-label label {font-family: monospace;font-weight: bold;display: inline-block;line-height: 1.2em;}#sk-container-id-1 div.sk-label-container {text-align: center;}#sk-container-id-1 div.sk-container {/* jupyter's `normalize.less` sets `[hidden] { display: none; }` but bootstrap.min.css set `[hidden] { display: none !important; }` so we also need the `!important` here to be able to override the default hidden behavior on the sphinx rendered scikit-learn.org. See: https://github.com/scikit-learn/scikit-learn/issues/21755 */display: inline-block !important;position: relative;}#sk-container-id-1 div.sk-text-repr-fallback {display: none;}</style><div id=\"sk-container-id-1\" class=\"sk-top-container\"><div class=\"sk-text-repr-fallback\"><pre>Pipeline(steps=[(&#x27;imputer&#x27;, SimpleImputer(strategy=&#x27;most_frequent&#x27;)),\n",
       "                (&#x27;normalize&#x27;, MinMaxScaler()), (&#x27;PCA&#x27;, PCA(n_components=20))])</pre><b>In a Jupyter environment, please rerun this cell to show the HTML representation or trust the notebook. <br />On GitHub, the HTML representation is unable to render, please try loading this page with nbviewer.org.</b></div><div class=\"sk-container\" hidden><div class=\"sk-item sk-dashed-wrapped\"><div class=\"sk-label-container\"><div class=\"sk-label sk-toggleable\"><input class=\"sk-toggleable__control sk-hidden--visually\" id=\"sk-estimator-id-1\" type=\"checkbox\" ><label for=\"sk-estimator-id-1\" class=\"sk-toggleable__label sk-toggleable__label-arrow\">Pipeline</label><div class=\"sk-toggleable__content\"><pre>Pipeline(steps=[(&#x27;imputer&#x27;, SimpleImputer(strategy=&#x27;most_frequent&#x27;)),\n",
       "                (&#x27;normalize&#x27;, MinMaxScaler()), (&#x27;PCA&#x27;, PCA(n_components=20))])</pre></div></div></div><div class=\"sk-serial\"><div class=\"sk-item\"><div class=\"sk-estimator sk-toggleable\"><input class=\"sk-toggleable__control sk-hidden--visually\" id=\"sk-estimator-id-2\" type=\"checkbox\" ><label for=\"sk-estimator-id-2\" class=\"sk-toggleable__label sk-toggleable__label-arrow\">SimpleImputer</label><div class=\"sk-toggleable__content\"><pre>SimpleImputer(strategy=&#x27;most_frequent&#x27;)</pre></div></div></div><div class=\"sk-item\"><div class=\"sk-estimator sk-toggleable\"><input class=\"sk-toggleable__control sk-hidden--visually\" id=\"sk-estimator-id-3\" type=\"checkbox\" ><label for=\"sk-estimator-id-3\" class=\"sk-toggleable__label sk-toggleable__label-arrow\">MinMaxScaler</label><div class=\"sk-toggleable__content\"><pre>MinMaxScaler()</pre></div></div></div><div class=\"sk-item\"><div class=\"sk-estimator sk-toggleable\"><input class=\"sk-toggleable__control sk-hidden--visually\" id=\"sk-estimator-id-4\" type=\"checkbox\" ><label for=\"sk-estimator-id-4\" class=\"sk-toggleable__label sk-toggleable__label-arrow\">PCA</label><div class=\"sk-toggleable__content\"><pre>PCA(n_components=20)</pre></div></div></div></div></div></div></div>"
      ],
      "text/plain": [
       "Pipeline(steps=[('imputer', SimpleImputer(strategy='most_frequent')),\n",
       "                ('normalize', MinMaxScaler()), ('PCA', PCA(n_components=20))])"
      ]
     },
     "execution_count": 8,
     "metadata": {},
     "output_type": "execute_result"
    }
   ],
   "source": [
    "preprocessor"
   ]
  },
  {
   "cell_type": "code",
   "execution_count": 9,
   "metadata": {},
   "outputs": [
    {
     "data": {
      "text/html": [
       "<style>#sk-container-id-2 {color: black;}#sk-container-id-2 pre{padding: 0;}#sk-container-id-2 div.sk-toggleable {background-color: white;}#sk-container-id-2 label.sk-toggleable__label {cursor: pointer;display: block;width: 100%;margin-bottom: 0;padding: 0.3em;box-sizing: border-box;text-align: center;}#sk-container-id-2 label.sk-toggleable__label-arrow:before {content: \"▸\";float: left;margin-right: 0.25em;color: #696969;}#sk-container-id-2 label.sk-toggleable__label-arrow:hover:before {color: black;}#sk-container-id-2 div.sk-estimator:hover label.sk-toggleable__label-arrow:before {color: black;}#sk-container-id-2 div.sk-toggleable__content {max-height: 0;max-width: 0;overflow: hidden;text-align: left;background-color: #f0f8ff;}#sk-container-id-2 div.sk-toggleable__content pre {margin: 0.2em;color: black;border-radius: 0.25em;background-color: #f0f8ff;}#sk-container-id-2 input.sk-toggleable__control:checked~div.sk-toggleable__content {max-height: 200px;max-width: 100%;overflow: auto;}#sk-container-id-2 input.sk-toggleable__control:checked~label.sk-toggleable__label-arrow:before {content: \"▾\";}#sk-container-id-2 div.sk-estimator input.sk-toggleable__control:checked~label.sk-toggleable__label {background-color: #d4ebff;}#sk-container-id-2 div.sk-label input.sk-toggleable__control:checked~label.sk-toggleable__label {background-color: #d4ebff;}#sk-container-id-2 input.sk-hidden--visually {border: 0;clip: rect(1px 1px 1px 1px);clip: rect(1px, 1px, 1px, 1px);height: 1px;margin: -1px;overflow: hidden;padding: 0;position: absolute;width: 1px;}#sk-container-id-2 div.sk-estimator {font-family: monospace;background-color: #f0f8ff;border: 1px dotted black;border-radius: 0.25em;box-sizing: border-box;margin-bottom: 0.5em;}#sk-container-id-2 div.sk-estimator:hover {background-color: #d4ebff;}#sk-container-id-2 div.sk-parallel-item::after {content: \"\";width: 100%;border-bottom: 1px solid gray;flex-grow: 1;}#sk-container-id-2 div.sk-label:hover label.sk-toggleable__label {background-color: #d4ebff;}#sk-container-id-2 div.sk-serial::before {content: \"\";position: absolute;border-left: 1px solid gray;box-sizing: border-box;top: 0;bottom: 0;left: 50%;z-index: 0;}#sk-container-id-2 div.sk-serial {display: flex;flex-direction: column;align-items: center;background-color: white;padding-right: 0.2em;padding-left: 0.2em;position: relative;}#sk-container-id-2 div.sk-item {position: relative;z-index: 1;}#sk-container-id-2 div.sk-parallel {display: flex;align-items: stretch;justify-content: center;background-color: white;position: relative;}#sk-container-id-2 div.sk-item::before, #sk-container-id-2 div.sk-parallel-item::before {content: \"\";position: absolute;border-left: 1px solid gray;box-sizing: border-box;top: 0;bottom: 0;left: 50%;z-index: -1;}#sk-container-id-2 div.sk-parallel-item {display: flex;flex-direction: column;z-index: 1;position: relative;background-color: white;}#sk-container-id-2 div.sk-parallel-item:first-child::after {align-self: flex-end;width: 50%;}#sk-container-id-2 div.sk-parallel-item:last-child::after {align-self: flex-start;width: 50%;}#sk-container-id-2 div.sk-parallel-item:only-child::after {width: 0;}#sk-container-id-2 div.sk-dashed-wrapped {border: 1px dashed gray;margin: 0 0.4em 0.5em 0.4em;box-sizing: border-box;padding-bottom: 0.4em;background-color: white;}#sk-container-id-2 div.sk-label label {font-family: monospace;font-weight: bold;display: inline-block;line-height: 1.2em;}#sk-container-id-2 div.sk-label-container {text-align: center;}#sk-container-id-2 div.sk-container {/* jupyter's `normalize.less` sets `[hidden] { display: none; }` but bootstrap.min.css set `[hidden] { display: none !important; }` so we also need the `!important` here to be able to override the default hidden behavior on the sphinx rendered scikit-learn.org. See: https://github.com/scikit-learn/scikit-learn/issues/21755 */display: inline-block !important;position: relative;}#sk-container-id-2 div.sk-text-repr-fallback {display: none;}</style><div id=\"sk-container-id-2\" class=\"sk-top-container\"><div class=\"sk-text-repr-fallback\"><pre>LabelEncoder()</pre><b>In a Jupyter environment, please rerun this cell to show the HTML representation or trust the notebook. <br />On GitHub, the HTML representation is unable to render, please try loading this page with nbviewer.org.</b></div><div class=\"sk-container\" hidden><div class=\"sk-item\"><div class=\"sk-estimator sk-toggleable\"><input class=\"sk-toggleable__control sk-hidden--visually\" id=\"sk-estimator-id-5\" type=\"checkbox\" checked><label for=\"sk-estimator-id-5\" class=\"sk-toggleable__label sk-toggleable__label-arrow\">LabelEncoder</label><div class=\"sk-toggleable__content\"><pre>LabelEncoder()</pre></div></div></div></div></div>"
      ],
      "text/plain": [
       "LabelEncoder()"
      ]
     },
     "execution_count": 9,
     "metadata": {},
     "output_type": "execute_result"
    }
   ],
   "source": [
    "label_encoder"
   ]
  },
  {
   "cell_type": "code",
   "execution_count": 10,
   "metadata": {},
   "outputs": [],
   "source": [
    "X = preprocessor.transform(X)\n",
    "y = label_encoder.transform(y)"
   ]
  },
  {
   "cell_type": "code",
   "execution_count": 11,
   "metadata": {},
   "outputs": [
    {
     "data": {
      "text/plain": [
       "(565576, 20)"
      ]
     },
     "execution_count": 11,
     "metadata": {},
     "output_type": "execute_result"
    }
   ],
   "source": [
    "X.shape"
   ]
  },
  {
   "cell_type": "code",
   "execution_count": 12,
   "metadata": {},
   "outputs": [
    {
     "data": {
      "text/plain": [
       "Counter({0: 454265,\n",
       "         4: 46025,\n",
       "         10: 31761,\n",
       "         2: 25605,\n",
       "         3: 2059,\n",
       "         7: 1587,\n",
       "         11: 1180,\n",
       "         6: 1159,\n",
       "         5: 1100,\n",
       "         1: 391,\n",
       "         12: 301,\n",
       "         14: 130,\n",
       "         9: 7,\n",
       "         13: 4,\n",
       "         8: 2})"
      ]
     },
     "execution_count": 12,
     "metadata": {},
     "output_type": "execute_result"
    }
   ],
   "source": [
    "Counter(y)"
   ]
  },
  {
   "cell_type": "code",
   "execution_count": 13,
   "metadata": {},
   "outputs": [
    {
     "data": {
      "text/plain": [
       "Extractor(\n",
       "  (resnet): Net1D(\n",
       "    (first_conv): MyConv1dPadSame(\n",
       "      (conv): Conv1d(1, 20, kernel_size=(16,), stride=(2,))\n",
       "    )\n",
       "    (first_bn): BatchNorm1d(20, eps=1e-05, momentum=0.1, affine=True, track_running_stats=True)\n",
       "    (first_activation): Swish()\n",
       "    (stage_list): ModuleList(\n",
       "      (0): BasicStage(\n",
       "        (block_list): ModuleList(\n",
       "          (0): BasicBlock(\n",
       "            (bn1): BatchNorm1d(20, eps=1e-05, momentum=0.1, affine=True, track_running_stats=True)\n",
       "            (activation1): Swish()\n",
       "            (do1): Dropout(p=0.5, inplace=False)\n",
       "            (conv1): MyConv1dPadSame(\n",
       "              (conv): Conv1d(20, 64, kernel_size=(1,), stride=(1,))\n",
       "            )\n",
       "            (bn2): BatchNorm1d(64, eps=1e-05, momentum=0.1, affine=True, track_running_stats=True)\n",
       "            (activation2): Swish()\n",
       "            (do2): Dropout(p=0.5, inplace=False)\n",
       "            (conv2): MyConv1dPadSame(\n",
       "              (conv): Conv1d(64, 64, kernel_size=(16,), stride=(2,), groups=4)\n",
       "            )\n",
       "            (bn3): BatchNorm1d(64, eps=1e-05, momentum=0.1, affine=True, track_running_stats=True)\n",
       "            (activation3): Swish()\n",
       "            (do3): Dropout(p=0.5, inplace=False)\n",
       "            (conv3): MyConv1dPadSame(\n",
       "              (conv): Conv1d(64, 64, kernel_size=(1,), stride=(1,))\n",
       "            )\n",
       "            (se_fc1): Linear(in_features=64, out_features=32, bias=True)\n",
       "            (se_fc2): Linear(in_features=32, out_features=64, bias=True)\n",
       "            (se_activation): Swish()\n",
       "            (max_pool): MyMaxPool1dPadSame(\n",
       "              (max_pool): MaxPool1d(kernel_size=2, stride=2, padding=0, dilation=1, ceil_mode=False)\n",
       "            )\n",
       "          )\n",
       "          (1-2): 2 x BasicBlock(\n",
       "            (bn1): BatchNorm1d(64, eps=1e-05, momentum=0.1, affine=True, track_running_stats=True)\n",
       "            (activation1): Swish()\n",
       "            (do1): Dropout(p=0.5, inplace=False)\n",
       "            (conv1): MyConv1dPadSame(\n",
       "              (conv): Conv1d(64, 64, kernel_size=(1,), stride=(1,))\n",
       "            )\n",
       "            (bn2): BatchNorm1d(64, eps=1e-05, momentum=0.1, affine=True, track_running_stats=True)\n",
       "            (activation2): Swish()\n",
       "            (do2): Dropout(p=0.5, inplace=False)\n",
       "            (conv2): MyConv1dPadSame(\n",
       "              (conv): Conv1d(64, 64, kernel_size=(16,), stride=(1,), groups=4)\n",
       "            )\n",
       "            (bn3): BatchNorm1d(64, eps=1e-05, momentum=0.1, affine=True, track_running_stats=True)\n",
       "            (activation3): Swish()\n",
       "            (do3): Dropout(p=0.5, inplace=False)\n",
       "            (conv3): MyConv1dPadSame(\n",
       "              (conv): Conv1d(64, 64, kernel_size=(1,), stride=(1,))\n",
       "            )\n",
       "            (se_fc1): Linear(in_features=64, out_features=32, bias=True)\n",
       "            (se_fc2): Linear(in_features=32, out_features=64, bias=True)\n",
       "            (se_activation): Swish()\n",
       "          )\n",
       "        )\n",
       "      )\n",
       "      (1): BasicStage(\n",
       "        (block_list): ModuleList(\n",
       "          (0): BasicBlock(\n",
       "            (bn1): BatchNorm1d(64, eps=1e-05, momentum=0.1, affine=True, track_running_stats=True)\n",
       "            (activation1): Swish()\n",
       "            (do1): Dropout(p=0.5, inplace=False)\n",
       "            (conv1): MyConv1dPadSame(\n",
       "              (conv): Conv1d(64, 256, kernel_size=(1,), stride=(1,))\n",
       "            )\n",
       "            (bn2): BatchNorm1d(256, eps=1e-05, momentum=0.1, affine=True, track_running_stats=True)\n",
       "            (activation2): Swish()\n",
       "            (do2): Dropout(p=0.5, inplace=False)\n",
       "            (conv2): MyConv1dPadSame(\n",
       "              (conv): Conv1d(256, 256, kernel_size=(16,), stride=(2,), groups=16)\n",
       "            )\n",
       "            (bn3): BatchNorm1d(256, eps=1e-05, momentum=0.1, affine=True, track_running_stats=True)\n",
       "            (activation3): Swish()\n",
       "            (do3): Dropout(p=0.5, inplace=False)\n",
       "            (conv3): MyConv1dPadSame(\n",
       "              (conv): Conv1d(256, 256, kernel_size=(1,), stride=(1,))\n",
       "            )\n",
       "            (se_fc1): Linear(in_features=256, out_features=128, bias=True)\n",
       "            (se_fc2): Linear(in_features=128, out_features=256, bias=True)\n",
       "            (se_activation): Swish()\n",
       "            (max_pool): MyMaxPool1dPadSame(\n",
       "              (max_pool): MaxPool1d(kernel_size=2, stride=2, padding=0, dilation=1, ceil_mode=False)\n",
       "            )\n",
       "          )\n",
       "          (1-3): 3 x BasicBlock(\n",
       "            (bn1): BatchNorm1d(256, eps=1e-05, momentum=0.1, affine=True, track_running_stats=True)\n",
       "            (activation1): Swish()\n",
       "            (do1): Dropout(p=0.5, inplace=False)\n",
       "            (conv1): MyConv1dPadSame(\n",
       "              (conv): Conv1d(256, 256, kernel_size=(1,), stride=(1,))\n",
       "            )\n",
       "            (bn2): BatchNorm1d(256, eps=1e-05, momentum=0.1, affine=True, track_running_stats=True)\n",
       "            (activation2): Swish()\n",
       "            (do2): Dropout(p=0.5, inplace=False)\n",
       "            (conv2): MyConv1dPadSame(\n",
       "              (conv): Conv1d(256, 256, kernel_size=(16,), stride=(1,), groups=16)\n",
       "            )\n",
       "            (bn3): BatchNorm1d(256, eps=1e-05, momentum=0.1, affine=True, track_running_stats=True)\n",
       "            (activation3): Swish()\n",
       "            (do3): Dropout(p=0.5, inplace=False)\n",
       "            (conv3): MyConv1dPadSame(\n",
       "              (conv): Conv1d(256, 256, kernel_size=(1,), stride=(1,))\n",
       "            )\n",
       "            (se_fc1): Linear(in_features=256, out_features=128, bias=True)\n",
       "            (se_fc2): Linear(in_features=128, out_features=256, bias=True)\n",
       "            (se_activation): Swish()\n",
       "          )\n",
       "        )\n",
       "      )\n",
       "      (2): BasicStage(\n",
       "        (block_list): ModuleList(\n",
       "          (0): BasicBlock(\n",
       "            (bn1): BatchNorm1d(256, eps=1e-05, momentum=0.1, affine=True, track_running_stats=True)\n",
       "            (activation1): Swish()\n",
       "            (do1): Dropout(p=0.5, inplace=False)\n",
       "            (conv1): MyConv1dPadSame(\n",
       "              (conv): Conv1d(256, 256, kernel_size=(1,), stride=(1,))\n",
       "            )\n",
       "            (bn2): BatchNorm1d(256, eps=1e-05, momentum=0.1, affine=True, track_running_stats=True)\n",
       "            (activation2): Swish()\n",
       "            (do2): Dropout(p=0.5, inplace=False)\n",
       "            (conv2): MyConv1dPadSame(\n",
       "              (conv): Conv1d(256, 256, kernel_size=(16,), stride=(2,), groups=16)\n",
       "            )\n",
       "            (bn3): BatchNorm1d(256, eps=1e-05, momentum=0.1, affine=True, track_running_stats=True)\n",
       "            (activation3): Swish()\n",
       "            (do3): Dropout(p=0.5, inplace=False)\n",
       "            (conv3): MyConv1dPadSame(\n",
       "              (conv): Conv1d(256, 256, kernel_size=(1,), stride=(1,))\n",
       "            )\n",
       "            (se_fc1): Linear(in_features=256, out_features=128, bias=True)\n",
       "            (se_fc2): Linear(in_features=128, out_features=256, bias=True)\n",
       "            (se_activation): Swish()\n",
       "            (max_pool): MyMaxPool1dPadSame(\n",
       "              (max_pool): MaxPool1d(kernel_size=2, stride=2, padding=0, dilation=1, ceil_mode=False)\n",
       "            )\n",
       "          )\n",
       "          (1-5): 5 x BasicBlock(\n",
       "            (bn1): BatchNorm1d(256, eps=1e-05, momentum=0.1, affine=True, track_running_stats=True)\n",
       "            (activation1): Swish()\n",
       "            (do1): Dropout(p=0.5, inplace=False)\n",
       "            (conv1): MyConv1dPadSame(\n",
       "              (conv): Conv1d(256, 256, kernel_size=(1,), stride=(1,))\n",
       "            )\n",
       "            (bn2): BatchNorm1d(256, eps=1e-05, momentum=0.1, affine=True, track_running_stats=True)\n",
       "            (activation2): Swish()\n",
       "            (do2): Dropout(p=0.5, inplace=False)\n",
       "            (conv2): MyConv1dPadSame(\n",
       "              (conv): Conv1d(256, 256, kernel_size=(16,), stride=(1,), groups=16)\n",
       "            )\n",
       "            (bn3): BatchNorm1d(256, eps=1e-05, momentum=0.1, affine=True, track_running_stats=True)\n",
       "            (activation3): Swish()\n",
       "            (do3): Dropout(p=0.5, inplace=False)\n",
       "            (conv3): MyConv1dPadSame(\n",
       "              (conv): Conv1d(256, 256, kernel_size=(1,), stride=(1,))\n",
       "            )\n",
       "            (se_fc1): Linear(in_features=256, out_features=128, bias=True)\n",
       "            (se_fc2): Linear(in_features=128, out_features=256, bias=True)\n",
       "            (se_activation): Swish()\n",
       "          )\n",
       "        )\n",
       "      )\n",
       "      (3): BasicStage(\n",
       "        (block_list): ModuleList(\n",
       "          (0): BasicBlock(\n",
       "            (bn1): BatchNorm1d(256, eps=1e-05, momentum=0.1, affine=True, track_running_stats=True)\n",
       "            (activation1): Swish()\n",
       "            (do1): Dropout(p=0.5, inplace=False)\n",
       "            (conv1): MyConv1dPadSame(\n",
       "              (conv): Conv1d(256, 512, kernel_size=(1,), stride=(1,))\n",
       "            )\n",
       "            (bn2): BatchNorm1d(512, eps=1e-05, momentum=0.1, affine=True, track_running_stats=True)\n",
       "            (activation2): Swish()\n",
       "            (do2): Dropout(p=0.5, inplace=False)\n",
       "            (conv2): MyConv1dPadSame(\n",
       "              (conv): Conv1d(512, 512, kernel_size=(16,), stride=(2,), groups=32)\n",
       "            )\n",
       "            (bn3): BatchNorm1d(512, eps=1e-05, momentum=0.1, affine=True, track_running_stats=True)\n",
       "            (activation3): Swish()\n",
       "            (do3): Dropout(p=0.5, inplace=False)\n",
       "            (conv3): MyConv1dPadSame(\n",
       "              (conv): Conv1d(512, 512, kernel_size=(1,), stride=(1,))\n",
       "            )\n",
       "            (se_fc1): Linear(in_features=512, out_features=256, bias=True)\n",
       "            (se_fc2): Linear(in_features=256, out_features=512, bias=True)\n",
       "            (se_activation): Swish()\n",
       "            (max_pool): MyMaxPool1dPadSame(\n",
       "              (max_pool): MaxPool1d(kernel_size=2, stride=2, padding=0, dilation=1, ceil_mode=False)\n",
       "            )\n",
       "          )\n",
       "          (1-2): 2 x BasicBlock(\n",
       "            (bn1): BatchNorm1d(512, eps=1e-05, momentum=0.1, affine=True, track_running_stats=True)\n",
       "            (activation1): Swish()\n",
       "            (do1): Dropout(p=0.5, inplace=False)\n",
       "            (conv1): MyConv1dPadSame(\n",
       "              (conv): Conv1d(512, 512, kernel_size=(1,), stride=(1,))\n",
       "            )\n",
       "            (bn2): BatchNorm1d(512, eps=1e-05, momentum=0.1, affine=True, track_running_stats=True)\n",
       "            (activation2): Swish()\n",
       "            (do2): Dropout(p=0.5, inplace=False)\n",
       "            (conv2): MyConv1dPadSame(\n",
       "              (conv): Conv1d(512, 512, kernel_size=(16,), stride=(1,), groups=32)\n",
       "            )\n",
       "            (bn3): BatchNorm1d(512, eps=1e-05, momentum=0.1, affine=True, track_running_stats=True)\n",
       "            (activation3): Swish()\n",
       "            (do3): Dropout(p=0.5, inplace=False)\n",
       "            (conv3): MyConv1dPadSame(\n",
       "              (conv): Conv1d(512, 512, kernel_size=(1,), stride=(1,))\n",
       "            )\n",
       "            (se_fc1): Linear(in_features=512, out_features=256, bias=True)\n",
       "            (se_fc2): Linear(in_features=256, out_features=512, bias=True)\n",
       "            (se_activation): Swish()\n",
       "          )\n",
       "        )\n",
       "      )\n",
       "    )\n",
       "    (dense): Linear(in_features=512, out_features=34, bias=True)\n",
       "  )\n",
       ")"
      ]
     },
     "execution_count": 13,
     "metadata": {},
     "output_type": "execute_result"
    }
   ],
   "source": [
    "device = torch.device('cuda:0' if torch.cuda.is_available() else 'cpu')\n",
    "\n",
    "with open('./dist/resnet/extractor1d-170.pkl', 'rb') as f:\n",
    "    extractor = pickle.load(f)\n",
    "\n",
    "extractor.to(device)\n",
    "extractor.eval()"
   ]
  },
  {
   "cell_type": "code",
   "execution_count": 14,
   "metadata": {},
   "outputs": [
    {
     "data": {
      "text/plain": [
       "565576"
      ]
     },
     "execution_count": 14,
     "metadata": {},
     "output_type": "execute_result"
    }
   ],
   "source": [
    "X = np.expand_dims(X, axis=2).transpose((0, 2, 1))\n",
    "\n",
    "dataset = dataset.NumpyDataset(X, y)\n",
    "len(dataset)"
   ]
  },
  {
   "cell_type": "code",
   "execution_count": 15,
   "metadata": {},
   "outputs": [],
   "source": [
    "from torch.utils.data import DataLoader\n",
    "\n",
    "embeddings = []\n",
    "labels = []\n",
    "batch_size = 1024\n",
    "dataloader = DataLoader(dataset=dataset, batch_size=batch_size)\n",
    "\n",
    "for X, y in dataloader:\n",
    "    X = X.to(device)\n",
    "    X_embedding = extractor(X)\n",
    "    embeddings.append(X_embedding.cpu().detach().numpy())\n",
    "\n",
    "    labels.append(y)"
   ]
  },
  {
   "cell_type": "code",
   "execution_count": 16,
   "metadata": {},
   "outputs": [
    {
     "name": "stdout",
     "output_type": "stream",
     "text": [
      "(565576, 34)\n",
      "(565576,)\n"
     ]
    }
   ],
   "source": [
    "X_embedding = np.concatenate(embeddings, axis=0)\n",
    "y = np.concatenate(labels, axis=0)\n",
    "print(X_embedding.shape)\n",
    "print(y.shape)"
   ]
  },
  {
   "cell_type": "code",
   "execution_count": 17,
   "metadata": {},
   "outputs": [
    {
     "data": {
      "text/plain": [
       "[MLPClassifier(max_iter=1500),\n",
       " DecisionTreeClassifier(),\n",
       " GaussianNB(),\n",
       " LogisticRegression(max_iter=500),\n",
       " RandomForestClassifier(),\n",
       " KNeighborsClassifier(),\n",
       " KNeighborsClassifier(n_neighbors=10)]"
      ]
     },
     "execution_count": 17,
     "metadata": {},
     "output_type": "execute_result"
    }
   ],
   "source": [
    "from sklearn.neural_network import  MLPClassifier\n",
    "from sklearn.tree import DecisionTreeClassifier\n",
    "from sklearn.ensemble import RandomForestClassifier\n",
    "from sklearn.naive_bayes import GaussianNB\n",
    "from sklearn.neighbors import KNeighborsClassifier\n",
    "from sklearn.linear_model import LogisticRegression\n",
    "\n",
    "knn_list = [5, 10]\n",
    "\n",
    "estimators = [MLPClassifier(max_iter=1500), DecisionTreeClassifier(), GaussianNB(), LogisticRegression(max_iter=500), RandomForestClassifier()] \\\n",
    "    + [KNeighborsClassifier(n_neighbors=k) for k in knn_list]\n",
    "\n",
    "estimators"
   ]
  },
  {
   "cell_type": "code",
   "execution_count": 18,
   "metadata": {},
   "outputs": [
    {
     "name": "stderr",
     "output_type": "stream",
     "text": [
      "/home/chan/miniconda3/envs/csi5388/lib/python3.10/site-packages/sklearn/model_selection/_split.py:737: UserWarning: The least populated class in y has only 2 members, which is less than n_splits=5.\n",
      "  warnings.warn(\n"
     ]
    },
    {
     "name": "stdout",
     "output_type": "stream",
     "text": [
      "finished evaluation on MLPClassifier(max_iter=1500)\n"
     ]
    },
    {
     "name": "stderr",
     "output_type": "stream",
     "text": [
      "/home/chan/miniconda3/envs/csi5388/lib/python3.10/site-packages/sklearn/model_selection/_split.py:737: UserWarning: The least populated class in y has only 2 members, which is less than n_splits=5.\n",
      "  warnings.warn(\n"
     ]
    },
    {
     "name": "stdout",
     "output_type": "stream",
     "text": [
      "finished evaluation on DecisionTreeClassifier()\n"
     ]
    },
    {
     "name": "stderr",
     "output_type": "stream",
     "text": [
      "/home/chan/miniconda3/envs/csi5388/lib/python3.10/site-packages/sklearn/model_selection/_split.py:737: UserWarning: The least populated class in y has only 2 members, which is less than n_splits=5.\n",
      "  warnings.warn(\n"
     ]
    },
    {
     "name": "stdout",
     "output_type": "stream",
     "text": [
      "finished evaluation on GaussianNB()\n"
     ]
    },
    {
     "name": "stderr",
     "output_type": "stream",
     "text": [
      "/home/chan/miniconda3/envs/csi5388/lib/python3.10/site-packages/sklearn/model_selection/_split.py:737: UserWarning: The least populated class in y has only 2 members, which is less than n_splits=5.\n",
      "  warnings.warn(\n",
      "/home/chan/miniconda3/envs/csi5388/lib/python3.10/site-packages/sklearn/linear_model/_logistic.py:460: ConvergenceWarning: lbfgs failed to converge (status=1):\n",
      "STOP: TOTAL NO. of ITERATIONS REACHED LIMIT.\n",
      "\n",
      "Increase the number of iterations (max_iter) or scale the data as shown in:\n",
      "    https://scikit-learn.org/stable/modules/preprocessing.html\n",
      "Please also refer to the documentation for alternative solver options:\n",
      "    https://scikit-learn.org/stable/modules/linear_model.html#logistic-regression\n",
      "  n_iter_i = _check_optimize_result(\n",
      "/home/chan/miniconda3/envs/csi5388/lib/python3.10/site-packages/sklearn/linear_model/_logistic.py:460: ConvergenceWarning: lbfgs failed to converge (status=1):\n",
      "STOP: TOTAL NO. of ITERATIONS REACHED LIMIT.\n",
      "\n",
      "Increase the number of iterations (max_iter) or scale the data as shown in:\n",
      "    https://scikit-learn.org/stable/modules/preprocessing.html\n",
      "Please also refer to the documentation for alternative solver options:\n",
      "    https://scikit-learn.org/stable/modules/linear_model.html#logistic-regression\n",
      "  n_iter_i = _check_optimize_result(\n",
      "/home/chan/miniconda3/envs/csi5388/lib/python3.10/site-packages/sklearn/linear_model/_logistic.py:460: ConvergenceWarning: lbfgs failed to converge (status=1):\n",
      "STOP: TOTAL NO. of ITERATIONS REACHED LIMIT.\n",
      "\n",
      "Increase the number of iterations (max_iter) or scale the data as shown in:\n",
      "    https://scikit-learn.org/stable/modules/preprocessing.html\n",
      "Please also refer to the documentation for alternative solver options:\n",
      "    https://scikit-learn.org/stable/modules/linear_model.html#logistic-regression\n",
      "  n_iter_i = _check_optimize_result(\n",
      "/home/chan/miniconda3/envs/csi5388/lib/python3.10/site-packages/sklearn/linear_model/_logistic.py:460: ConvergenceWarning: lbfgs failed to converge (status=1):\n",
      "STOP: TOTAL NO. of ITERATIONS REACHED LIMIT.\n",
      "\n",
      "Increase the number of iterations (max_iter) or scale the data as shown in:\n",
      "    https://scikit-learn.org/stable/modules/preprocessing.html\n",
      "Please also refer to the documentation for alternative solver options:\n",
      "    https://scikit-learn.org/stable/modules/linear_model.html#logistic-regression\n",
      "  n_iter_i = _check_optimize_result(\n",
      "/home/chan/miniconda3/envs/csi5388/lib/python3.10/site-packages/sklearn/linear_model/_logistic.py:460: ConvergenceWarning: lbfgs failed to converge (status=1):\n",
      "STOP: TOTAL NO. of ITERATIONS REACHED LIMIT.\n",
      "\n",
      "Increase the number of iterations (max_iter) or scale the data as shown in:\n",
      "    https://scikit-learn.org/stable/modules/preprocessing.html\n",
      "Please also refer to the documentation for alternative solver options:\n",
      "    https://scikit-learn.org/stable/modules/linear_model.html#logistic-regression\n",
      "  n_iter_i = _check_optimize_result(\n",
      "/home/chan/miniconda3/envs/csi5388/lib/python3.10/site-packages/sklearn/model_selection/_split.py:737: UserWarning: The least populated class in y has only 2 members, which is less than n_splits=5.\n",
      "  warnings.warn(\n"
     ]
    },
    {
     "name": "stdout",
     "output_type": "stream",
     "text": [
      "finished evaluation on LogisticRegression(max_iter=500)\n",
      "finished evaluation on RandomForestClassifier()\n"
     ]
    },
    {
     "name": "stderr",
     "output_type": "stream",
     "text": [
      "/home/chan/miniconda3/envs/csi5388/lib/python3.10/site-packages/sklearn/model_selection/_split.py:737: UserWarning: The least populated class in y has only 2 members, which is less than n_splits=5.\n",
      "  warnings.warn(\n"
     ]
    },
    {
     "name": "stdout",
     "output_type": "stream",
     "text": [
      "finished evaluation on KNeighborsClassifier()\n"
     ]
    },
    {
     "name": "stderr",
     "output_type": "stream",
     "text": [
      "/home/chan/miniconda3/envs/csi5388/lib/python3.10/site-packages/sklearn/model_selection/_split.py:737: UserWarning: The least populated class in y has only 2 members, which is less than n_splits=5.\n",
      "  warnings.warn(\n"
     ]
    },
    {
     "name": "stdout",
     "output_type": "stream",
     "text": [
      "finished evaluation on KNeighborsClassifier(n_neighbors=10)\n"
     ]
    }
   ],
   "source": [
    "from sklearn.model_selection import cross_validate, cross_val_predict\n",
    "from sklearn.metrics import make_scorer, f1_score, precision_score, recall_score, accuracy_score, confusion_matrix\n",
    "\n",
    "scoring = {\n",
    "    'f1_weighted': make_scorer(f1_score, average='weighted', zero_division=0),\n",
    "    'precision_weighted': make_scorer(precision_score, average='weighted', zero_division=0),\n",
    "    'recall_weighted': make_scorer(recall_score, average='weighted', zero_division=0),\n",
    "    'accuracy': make_scorer(accuracy_score),\n",
    "    'f1_macro': make_scorer(f1_score, average='macro', zero_division=0),\n",
    "    'precision_macro': make_scorer(precision_score, average='macro', zero_division=0),\n",
    "    'recall_macro': make_scorer(recall_score, average='macro', zero_division=0),\n",
    "}\n",
    "\n",
    "performance = {}\n",
    "\n",
    "for model in estimators:\n",
    "    results = cross_validate(model, X_embedding, y, scoring=scoring)\n",
    "    performance[model.__repr__()] = results\n",
    "\n",
    "    print(f\"finished evaluation on {model.__repr__()}\")"
   ]
  },
  {
   "cell_type": "code",
   "execution_count": 19,
   "metadata": {},
   "outputs": [],
   "source": [
    "resnet_performance = performance"
   ]
  },
  {
   "cell_type": "code",
   "execution_count": 20,
   "metadata": {},
   "outputs": [
    {
     "data": {
      "text/plain": [
       "ExtractorMLP(\n",
       "  (conv1d): MyConv1dPadSame(\n",
       "    (conv): Conv1d(1, 1, kernel_size=(1,), stride=(1,))\n",
       "  )\n",
       "  (linear_in): Linear(in_features=20, out_features=65, bias=True)\n",
       "  (backbone): Sequential(\n",
       "    (linear-0): Linear(in_features=65, out_features=65, bias=True)\n",
       "    (act-0): ReLU()\n",
       "  )\n",
       "  (linear_out): Linear(in_features=65, out_features=39, bias=True)\n",
       ")"
      ]
     },
     "execution_count": 20,
     "metadata": {},
     "output_type": "execute_result"
    }
   ],
   "source": [
    "# load mlp extractor\n",
    "with open('./dist/mlp/extractor1d-final.pkl', 'rb') as f:\n",
    "    extractor = pickle.load(f)\n",
    "\n",
    "extractor.to(device)\n",
    "extractor.eval()"
   ]
  },
  {
   "cell_type": "markdown",
   "metadata": {},
   "source": [
    "## Eval of MLP feature extractor"
   ]
  },
  {
   "cell_type": "code",
   "execution_count": 21,
   "metadata": {},
   "outputs": [],
   "source": [
    "embeddings = []\n",
    "labels = []\n",
    "batch_size = 1024\n",
    "dataloader = DataLoader(dataset=dataset, batch_size=batch_size)\n",
    "\n",
    "for X, y in dataloader:\n",
    "    X = X.to(device)\n",
    "    X_embedding = extractor(X)\n",
    "    embeddings.append(X_embedding.cpu().detach().numpy())\n",
    "\n",
    "    labels.append(y)"
   ]
  },
  {
   "cell_type": "code",
   "execution_count": 22,
   "metadata": {},
   "outputs": [
    {
     "name": "stdout",
     "output_type": "stream",
     "text": [
      "(565576, 39)\n",
      "(565576,)\n"
     ]
    }
   ],
   "source": [
    "X_embedding = np.concatenate(embeddings, axis=0)\n",
    "y = np.concatenate(labels, axis=0)\n",
    "print(X_embedding.shape)\n",
    "print(y.shape)"
   ]
  },
  {
   "cell_type": "code",
   "execution_count": 23,
   "metadata": {},
   "outputs": [
    {
     "name": "stderr",
     "output_type": "stream",
     "text": [
      "/home/chan/miniconda3/envs/csi5388/lib/python3.10/site-packages/sklearn/model_selection/_split.py:737: UserWarning: The least populated class in y has only 2 members, which is less than n_splits=5.\n",
      "  warnings.warn(\n"
     ]
    },
    {
     "name": "stdout",
     "output_type": "stream",
     "text": [
      "finished evaluation on MLPClassifier(max_iter=1500)\n"
     ]
    },
    {
     "name": "stderr",
     "output_type": "stream",
     "text": [
      "/home/chan/miniconda3/envs/csi5388/lib/python3.10/site-packages/sklearn/model_selection/_split.py:737: UserWarning: The least populated class in y has only 2 members, which is less than n_splits=5.\n",
      "  warnings.warn(\n"
     ]
    },
    {
     "name": "stdout",
     "output_type": "stream",
     "text": [
      "finished evaluation on DecisionTreeClassifier()\n"
     ]
    },
    {
     "name": "stderr",
     "output_type": "stream",
     "text": [
      "/home/chan/miniconda3/envs/csi5388/lib/python3.10/site-packages/sklearn/model_selection/_split.py:737: UserWarning: The least populated class in y has only 2 members, which is less than n_splits=5.\n",
      "  warnings.warn(\n"
     ]
    },
    {
     "name": "stdout",
     "output_type": "stream",
     "text": [
      "finished evaluation on GaussianNB()\n"
     ]
    },
    {
     "name": "stderr",
     "output_type": "stream",
     "text": [
      "/home/chan/miniconda3/envs/csi5388/lib/python3.10/site-packages/sklearn/model_selection/_split.py:737: UserWarning: The least populated class in y has only 2 members, which is less than n_splits=5.\n",
      "  warnings.warn(\n",
      "/home/chan/miniconda3/envs/csi5388/lib/python3.10/site-packages/sklearn/linear_model/_logistic.py:460: ConvergenceWarning: lbfgs failed to converge (status=1):\n",
      "STOP: TOTAL NO. of ITERATIONS REACHED LIMIT.\n",
      "\n",
      "Increase the number of iterations (max_iter) or scale the data as shown in:\n",
      "    https://scikit-learn.org/stable/modules/preprocessing.html\n",
      "Please also refer to the documentation for alternative solver options:\n",
      "    https://scikit-learn.org/stable/modules/linear_model.html#logistic-regression\n",
      "  n_iter_i = _check_optimize_result(\n",
      "/home/chan/miniconda3/envs/csi5388/lib/python3.10/site-packages/sklearn/linear_model/_logistic.py:460: ConvergenceWarning: lbfgs failed to converge (status=1):\n",
      "STOP: TOTAL NO. of ITERATIONS REACHED LIMIT.\n",
      "\n",
      "Increase the number of iterations (max_iter) or scale the data as shown in:\n",
      "    https://scikit-learn.org/stable/modules/preprocessing.html\n",
      "Please also refer to the documentation for alternative solver options:\n",
      "    https://scikit-learn.org/stable/modules/linear_model.html#logistic-regression\n",
      "  n_iter_i = _check_optimize_result(\n",
      "/home/chan/miniconda3/envs/csi5388/lib/python3.10/site-packages/sklearn/linear_model/_logistic.py:460: ConvergenceWarning: lbfgs failed to converge (status=1):\n",
      "STOP: TOTAL NO. of ITERATIONS REACHED LIMIT.\n",
      "\n",
      "Increase the number of iterations (max_iter) or scale the data as shown in:\n",
      "    https://scikit-learn.org/stable/modules/preprocessing.html\n",
      "Please also refer to the documentation for alternative solver options:\n",
      "    https://scikit-learn.org/stable/modules/linear_model.html#logistic-regression\n",
      "  n_iter_i = _check_optimize_result(\n",
      "/home/chan/miniconda3/envs/csi5388/lib/python3.10/site-packages/sklearn/linear_model/_logistic.py:460: ConvergenceWarning: lbfgs failed to converge (status=1):\n",
      "STOP: TOTAL NO. of ITERATIONS REACHED LIMIT.\n",
      "\n",
      "Increase the number of iterations (max_iter) or scale the data as shown in:\n",
      "    https://scikit-learn.org/stable/modules/preprocessing.html\n",
      "Please also refer to the documentation for alternative solver options:\n",
      "    https://scikit-learn.org/stable/modules/linear_model.html#logistic-regression\n",
      "  n_iter_i = _check_optimize_result(\n",
      "/home/chan/miniconda3/envs/csi5388/lib/python3.10/site-packages/sklearn/linear_model/_logistic.py:460: ConvergenceWarning: lbfgs failed to converge (status=1):\n",
      "STOP: TOTAL NO. of ITERATIONS REACHED LIMIT.\n",
      "\n",
      "Increase the number of iterations (max_iter) or scale the data as shown in:\n",
      "    https://scikit-learn.org/stable/modules/preprocessing.html\n",
      "Please also refer to the documentation for alternative solver options:\n",
      "    https://scikit-learn.org/stable/modules/linear_model.html#logistic-regression\n",
      "  n_iter_i = _check_optimize_result(\n",
      "/home/chan/miniconda3/envs/csi5388/lib/python3.10/site-packages/sklearn/model_selection/_split.py:737: UserWarning: The least populated class in y has only 2 members, which is less than n_splits=5.\n",
      "  warnings.warn(\n"
     ]
    },
    {
     "name": "stdout",
     "output_type": "stream",
     "text": [
      "finished evaluation on LogisticRegression(max_iter=500)\n",
      "finished evaluation on RandomForestClassifier()\n"
     ]
    },
    {
     "name": "stderr",
     "output_type": "stream",
     "text": [
      "/home/chan/miniconda3/envs/csi5388/lib/python3.10/site-packages/sklearn/model_selection/_split.py:737: UserWarning: The least populated class in y has only 2 members, which is less than n_splits=5.\n",
      "  warnings.warn(\n"
     ]
    },
    {
     "name": "stdout",
     "output_type": "stream",
     "text": [
      "finished evaluation on KNeighborsClassifier()\n"
     ]
    },
    {
     "name": "stderr",
     "output_type": "stream",
     "text": [
      "/home/chan/miniconda3/envs/csi5388/lib/python3.10/site-packages/sklearn/model_selection/_split.py:737: UserWarning: The least populated class in y has only 2 members, which is less than n_splits=5.\n",
      "  warnings.warn(\n"
     ]
    },
    {
     "name": "stdout",
     "output_type": "stream",
     "text": [
      "finished evaluation on KNeighborsClassifier(n_neighbors=10)\n"
     ]
    }
   ],
   "source": [
    "performance = {}\n",
    "\n",
    "for model in estimators:\n",
    "    results = cross_validate(model, X_embedding, y, scoring=scoring)\n",
    "    performance[model.__repr__()] = results\n",
    "\n",
    "    print(f\"finished evaluation on {model.__repr__()}\")"
   ]
  },
  {
   "cell_type": "code",
   "execution_count": 24,
   "metadata": {},
   "outputs": [],
   "source": [
    "mlp_performance = performance"
   ]
  },
  {
   "cell_type": "code",
   "execution_count": 25,
   "metadata": {},
   "outputs": [
    {
     "data": {
      "text/plain": [
       "{'fit_time': array([57.91320348, 59.32633638, 59.03970337, 57.68608141, 57.33490396]),\n",
       " 'score_time': array([0.14851999, 0.147825  , 0.14329743, 0.13228631, 0.14532042]),\n",
       " 'test_f1_weighted': array([0.9853872 , 0.98473469, 0.98481031, 0.98529915, 0.98459861]),\n",
       " 'test_precision_weighted': array([0.98539792, 0.98477917, 0.98484787, 0.98532527, 0.98465799]),\n",
       " 'test_recall_weighted': array([0.98538668, 0.98469699, 0.9847854 , 0.98528047, 0.98455554]),\n",
       " 'test_accuracy': array([0.98538668, 0.98469699, 0.9847854 , 0.98528047, 0.98455554]),\n",
       " 'test_f1_macro': array([0.68611908, 0.68175333, 0.76262984, 0.68064059, 0.72061268]),\n",
       " 'test_precision_macro': array([0.68786662, 0.67849618, 0.74610466, 0.67944644, 0.71758514]),\n",
       " 'test_recall_macro': array([0.68482565, 0.68547334, 0.80327528, 0.68208705, 0.72379792])}"
      ]
     },
     "execution_count": 25,
     "metadata": {},
     "output_type": "execute_result"
    }
   ],
   "source": [
    "metric_keys = [f'test_{x}' for x in scoring.keys()]\n",
    "\n",
    "mlp_performance['DecisionTreeClassifier()']\n",
    "\n",
    "for model in estimators: \n",
    "    model_name = model.__repr__()\n",
    "    fig, axes = plt.subplots(2, 3)\n",
    "    for i in range(len(metric_keys)):\n",
    "        key = metric_keys[i]\n",
    "        row = key // 3\n",
    "        col = key % 3 \n",
    "\n",
    "        axes[row, col].plot()\n"
   ]
  },
  {
   "cell_type": "code",
   "execution_count": 36,
   "metadata": {},
   "outputs": [
    {
     "name": "stdout",
     "output_type": "stream",
     "text": [
      "==========MLPClassifier(max_iter=1500)==========\n",
      "                               mlp\t resnet\n",
      "test_f1_weighted               0.970910 \t 0.978402\n",
      "test_precision_weighted        0.971440 \t 0.978790\n",
      "test_recall_weighted           0.971284 \t 0.978929\n",
      "test_accuracy                  0.971284 \t 0.978929\n",
      "test_f1_macro                  0.641212 \t 0.657772\n",
      "test_precision_macro           0.709399 \t 0.754100\n",
      "test_recall_macro              0.632646 \t 0.631850\n",
      "==========DecisionTreeClassifier()==========\n",
      "                               mlp\t resnet\n",
      "test_f1_weighted               0.984966 \t 0.987107\n",
      "test_precision_weighted        0.985002 \t 0.987138\n",
      "test_recall_weighted           0.984941 \t 0.987086\n",
      "test_accuracy                  0.984941 \t 0.987086\n",
      "test_f1_macro                  0.706351 \t 0.719794\n",
      "test_precision_macro           0.701900 \t 0.718925\n",
      "test_recall_macro              0.715892 \t 0.721341\n",
      "==========GaussianNB()==========\n",
      "                               mlp\t resnet\n",
      "test_f1_weighted               0.269543 \t 0.374974\n",
      "test_precision_weighted        0.709426 \t 0.830744\n",
      "test_recall_weighted           0.222032 \t 0.328435\n",
      "test_accuracy                  0.222032 \t 0.328435\n",
      "test_f1_macro                  0.103127 \t 0.201472\n",
      "test_precision_macro           0.132403 \t 0.198866\n",
      "test_recall_macro              0.382821 \t 0.534849\n",
      "==========LogisticRegression(max_iter=500)==========\n",
      "                               mlp\t resnet\n",
      "test_f1_weighted               0.780579 \t 0.924453\n",
      "test_precision_weighted        0.762980 \t 0.924427\n",
      "test_recall_weighted           0.829353 \t 0.927744\n",
      "test_accuracy                  0.829353 \t 0.927744\n",
      "test_f1_macro                  0.152803 \t 0.354521\n",
      "test_precision_macro           0.228818 \t 0.440467\n",
      "test_recall_macro              0.132459 \t 0.325166\n",
      "==========RandomForestClassifier()==========\n",
      "                               mlp\t resnet\n",
      "test_f1_weighted               0.987669 \t 0.988935\n",
      "test_precision_weighted        0.987730 \t 0.989013\n",
      "test_recall_weighted           0.987683 \t 0.988935\n",
      "test_accuracy                  0.987683 \t 0.988935\n",
      "test_f1_macro                  0.734748 \t 0.766953\n",
      "test_precision_macro           0.751588 \t 0.782960\n",
      "test_recall_macro              0.722966 \t 0.756308\n",
      "==========KNeighborsClassifier()==========\n",
      "                               mlp\t resnet\n",
      "test_f1_weighted               0.982426 \t 0.986974\n",
      "test_precision_weighted        0.982493 \t 0.987014\n",
      "test_recall_weighted           0.982554 \t 0.987036\n",
      "test_accuracy                  0.982554 \t 0.987036\n",
      "test_f1_macro                  0.685578 \t 0.712206\n",
      "test_precision_macro           0.719582 \t 0.737472\n",
      "test_recall_macro              0.672420 \t 0.699383\n",
      "==========KNeighborsClassifier(n_neighbors=10)==========\n",
      "                               mlp\t resnet\n",
      "test_f1_weighted               0.980176 \t 0.986002\n",
      "test_precision_weighted        0.980232 \t 0.986012\n",
      "test_recall_weighted           0.980455 \t 0.986228\n",
      "test_accuracy                  0.980455 \t 0.986228\n",
      "test_f1_macro                  0.664923 \t 0.684735\n",
      "test_precision_macro           0.721863 \t 0.737301\n",
      "test_recall_macro              0.648154 \t 0.667968\n"
     ]
    }
   ],
   "source": [
    "metric_keys = [f'test_{x}' for x in scoring.keys()]\n",
    "\n",
    "for model in estimators:\n",
    "    model_name = model.__repr__()\n",
    "    print('='*10 + model_name + '='*10)\n",
    "    print(f'{\"\":30} {\"mlp\"}\\t\\t {\"resnet\"}')\n",
    "    for metric in metric_keys:\n",
    "        print(f'{metric:30} {np.average(mlp_performance[model_name][metric]):.6f} \\t {np.average(resnet_performance[model_name][metric]):.6f}') "
   ]
  }
 ],
 "metadata": {
  "kernelspec": {
   "display_name": "csi5388",
   "language": "python",
   "name": "python3"
  },
  "language_info": {
   "codemirror_mode": {
    "name": "ipython",
    "version": 3
   },
   "file_extension": ".py",
   "mimetype": "text/x-python",
   "name": "python",
   "nbconvert_exporter": "python",
   "pygments_lexer": "ipython3",
   "version": "3.10.13"
  }
 },
 "nbformat": 4,
 "nbformat_minor": 2
}
